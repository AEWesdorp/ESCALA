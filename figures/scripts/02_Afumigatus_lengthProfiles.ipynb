{
 "cells": [
  {
   "cell_type": "code",
   "execution_count": null,
   "metadata": {
    "scrolled": false
   },
   "outputs": [],
   "source": [
    "f_func <- \"./functions.ipynb\"\n",
    "eval(parse(text = system2('jupyter', c('nbconvert', f_func, '--to=script', '--stdout'), stdout = TRUE)))\n",
    "\n",
    "f_data_loading <- \"./data_loading.ipynb\"\n",
    "eval(parse(text = system2('jupyter', c('nbconvert', f_data_loading, '--to=script', '--stdout'), stdout = TRUE)))"
   ]
  },
  {
   "cell_type": "code",
   "execution_count": null,
   "metadata": {},
   "outputs": [],
   "source": [
    "options(repr.plot.width=7, repr.plot.height=5)\n",
    "for(sel_sample in c(\"plasma\", \"BAL\")[2]){\n",
    "    Afum_length <- Afum_IS_meta %>% \n",
    "        filter(read == \"R1\") %>% \n",
    "        filter(origin != \"controls\") %>% \n",
    "        filter(type != \"ds-wcDNA\") %>%    \n",
    "        mutate(TLEN = abs(TLEN)) %>% \n",
    "        filter(sample == sel_sample) %>% \n",
    "        group_by(sample, type, sample_type, TLEN) %>% \n",
    "        summarise(sumCount = sum(Count), .groups = \"keep\") %>% \n",
    "        group_by(sample, type, sample_type) %>% \n",
    "        mutate(norm_sumCount = sumCount/sum(sumCount)*100) %>% \n",
    "        mutate(sample_type = factor(sample_type, levels = c(\"dsLP plasma\", \"ssLP plasma\", \n",
    "                                                            \"dsLP BAL\", \"ssLP BAL\"))) %>%  \n",
    "        ggplot(aes(x = TLEN, y = norm_sumCount, col = sample_type)) + \n",
    "            geom_segment(aes(x = TLEN, xend = TLEN, y = 0, yend = norm_sumCount), size = 1) + \n",
    "            facet_grid(rows = vars(type), drop = TRUE, scales = \"free\") + \n",
    "            scale_color_manual(values = c(\"dsLP plasma\" = \"#C6896C\", \"ssLP plasma\" = \"#A84750\", \n",
    "                                             \"dsLP BAL\" = \"#7CA2C2\", \"ssLP BAL\" = \"#6066B6\")) + \n",
    "            xlab(\"Template length (bp)\") + ylab(\"Percentage of fragments (%)\") + labs(color = \"\") + \n",
    "            geom_text(data = . %>%\n",
    "                      summarise(sumsumCount = sum(sumCount), .groups = \"drop\") %>%\n",
    "                      mutate(label = paste(\"# reads = \", sumsumCount)),  # Create label text\n",
    "                  aes(x = Inf, y = Inf, col = sample_type, label = label),  # Position text at the top-right corner\n",
    "                  hjust = 1.5, vjust = 1.5, size = 3.5) +\n",
    "            theme_bw() + \n",
    "            theme(axis.text.x = element_text(angle = 90, hjust = 1), \n",
    "                strip.background = element_rect(color = \"white\", fill = \"white\"), \n",
    "                strip.text.x = element_blank(), \n",
    "                panel.spacing = unit(1, \"lines\"), \n",
    "                strip.text.y = element_blank()) \n",
    "\n",
    "    Afum_length %>% print()\n",
    "\n",
    "    ggsave(paste0(\"../../output_figures/Afumigatus_\", sel_sample, \"_length.png\"), plot = Afum_length, \n",
    "                width = 7, height = 5)\n",
    "    ggsave(paste0(\"../../output_figures/Afumigatus_\", sel_sample, \"_length.pdf\"), plot = Afum_length, \n",
    "                width = 7, height = 5)\n",
    "}"
   ]
  },
  {
   "cell_type": "code",
   "execution_count": null,
   "metadata": {},
   "outputs": [],
   "source": [
    "freq_tbl_Afum_IS_meta <- Afum_IS_meta %>% \n",
    "        #filter(read == \"R1\") %>% \n",
    "        filter(origin != \"controls\") %>% \n",
    "        filter(type != \"ds-wcDNA\") %>%    \n",
    "        mutate(TLEN = abs(TLEN)) %>% \n",
    "        group_by(sample, type, sample_type, TLEN) %>% \n",
    "        summarise(sumCount = sum(Count), .groups = \"keep\") \n",
    "\n",
    "expanded_tbl_Afum_IS_meta <- freq_tbl_Afum_IS_meta %>% \n",
    "    uncount(weights = sumCount) \n",
    "\n",
    "\n",
    "quartiles_tlen <- expanded_tbl_Afum_IS_meta %>%\n",
    "    group_by(sample_type) %>% \n",
    "    summarise(\n",
    "        Q1 = quantile(TLEN, 0.25, na.rm = TRUE),\n",
    "        Q2 = quantile(TLEN, 0.50, na.rm = TRUE),  # Median\n",
    "        Q3 = quantile(TLEN, 0.75, na.rm = TRUE),\n",
    "        .groups = \"drop\"\n",
    "    )\n",
    "quartiles_tlen"
   ]
  }
 ],
 "metadata": {
  "kernelspec": {
   "display_name": "R [conda env:r4.2.0]",
   "language": "R",
   "name": "conda-env-r4.2.0-r"
  },
  "language_info": {
   "codemirror_mode": "r",
   "file_extension": ".r",
   "mimetype": "text/x-r-source",
   "name": "R",
   "pygments_lexer": "r",
   "version": "4.2.3"
  }
 },
 "nbformat": 4,
 "nbformat_minor": 4
}
