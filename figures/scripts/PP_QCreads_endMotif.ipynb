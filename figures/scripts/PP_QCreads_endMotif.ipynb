{
 "cells": [
  {
   "cell_type": "code",
   "execution_count": null,
   "metadata": {},
   "outputs": [],
   "source": [
    "f_func <- \"./functions.ipynb\"\n",
    "eval(parse(text = system2('jupyter', c('nbconvert', f_func, '--to=script', '--stdout'), stdout = TRUE)))"
   ]
  },
  {
   "cell_type": "code",
   "execution_count": null,
   "metadata": {},
   "outputs": [],
   "source": [
    "DIR_IN_QC=\"../../output/nucleotideFreq_QCreads/\"\n",
    "samples_metadata <- read.csv(file = \"../../output/samples_metadata.csv\") %>% as.data.table()\n",
    "\n",
    "list.files(DIR_IN_QC, pattern = \"_endMotif_count.txt\") %>% length()"
   ]
  },
  {
   "cell_type": "code",
   "execution_count": null,
   "metadata": {},
   "outputs": [],
   "source": [
    "if (exists(\"QCreads_meta\")){rm(\"QCreads_meta\")}\n",
    "profvis({\n",
    "for (file in list.files(DIR_IN_QC, pattern = \"_endMotif_count.txt\")){\n",
    "    sample_tmp <- unlist(strsplit(file, \"_\"))[1] \n",
    "    side_tmp <- unlist(strsplit(file, \"_\"))[2]\n",
    "    \n",
    "    if(countLines(paste0(DIR_IN_QC, file)) > 1){\n",
    "        data_tmp <- fread(paste0(DIR_IN_QC, file), sep = \",\") %>% \n",
    "            mutate(read = side_tmp) %>% \n",
    "            mutate(sample_id = sample_tmp) %>% \n",
    "            filter(!grepl(EndMotif, pattern = \"N\")) %>% \n",
    "            select(c(\"sample_id\", \"read\", \"EndMotif\", \"Count\")) \n",
    "        \n",
    "        tmp_IS_meta <- merge(x = samples_metadata, y = data_tmp, by.x = \"sample_id\", by.y = \"sample_id\") \n",
    "        if (!exists(\"QCreads_meta\")){QCreads_meta <- tmp_IS_meta} else {\n",
    "            QCreads_meta <- rbind(QCreads_meta, tmp_IS_meta)}\n",
    "    }\n",
    "    fwrite(QCreads_meta, \"../../output/PP_figures/QCreads_EndMotifs.csv\", row.names = FALSE)\n",
    "}\n",
    "})"
   ]
  }
 ],
 "metadata": {
  "kernelspec": {
   "display_name": "R [conda env:r4.2.0]",
   "language": "R",
   "name": "conda-env-r4.2.0-r"
  },
  "language_info": {
   "codemirror_mode": "r",
   "file_extension": ".r",
   "mimetype": "text/x-r-source",
   "name": "R",
   "pygments_lexer": "r",
   "version": "4.2.3"
  }
 },
 "nbformat": 4,
 "nbformat_minor": 4
}
