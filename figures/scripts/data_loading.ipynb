{
 "cells": [
  {
   "cell_type": "code",
   "execution_count": null,
   "metadata": {
    "scrolled": true
   },
   "outputs": [],
   "source": [
    "f_func <- \"./functions.ipynb\"\n",
    "eval(parse(text = system2('jupyter', c('nbconvert', f_func, '--to=script', '--stdout'), stdout = TRUE)))"
   ]
  },
  {
   "cell_type": "code",
   "execution_count": null,
   "metadata": {},
   "outputs": [],
   "source": [
    "samples_metadata <- read.csv(file = \"../../output/samples_metadata.csv\") %>% as.data.table()"
   ]
  },
  {
   "cell_type": "code",
   "execution_count": null,
   "metadata": {},
   "outputs": [],
   "source": [
    "host_nonMT_IS_meta <- read.csv(file = \"../../output/PP_figures/host_new_nonMT_IS_meta.csv\") %>% \n",
    "    filter(origin != \"controls\") %>% \n",
    "    filter(type != \"ds-wcDNA\") %>%    \n",
    "    mutate(TLEN = abs(TLEN)) %>% \n",
    "    filter(TLEN >= -500 & TLEN <= 500) %>% \n",
    "    mutate(read = substr(side,1,2)) "
   ]
  },
  {
   "cell_type": "code",
   "execution_count": null,
   "metadata": {},
   "outputs": [],
   "source": [
    "host_MT_IS_meta <- read.csv(file = \"../../output/PP_figures/host_new_MT_IS_meta.csv\") %>% \n",
    "    filter(origin != \"controls\") %>% \n",
    "    filter(type != \"ds-wcDNA\") %>%    \n",
    "    mutate(TLEN = abs(TLEN)) %>% \n",
    "    filter(TLEN >= -500 & TLEN <= 500) %>% \n",
    "    mutate(read = substr(side,1,2)) "
   ]
  },
  {
   "cell_type": "code",
   "execution_count": null,
   "metadata": {},
   "outputs": [],
   "source": [
    "host_ALL_IS_meta <- rbind(read.csv(file = \"../../output/PP_figures/host_new_MT_IS_meta.csv\"), \n",
    "                        read.csv(file = \"../../output/PP_figures/host_new_nonMT_IS_meta.csv\"))%>% \n",
    "    filter(origin != \"controls\") %>% \n",
    "    filter(type != \"ds-wcDNA\") %>%    \n",
    "    mutate(TLEN = abs(TLEN)) %>% \n",
    "    filter(TLEN >= -500 & TLEN <= 500) %>% \n",
    "    mutate(read = substr(side,1,2)) "
   ]
  },
  {
   "cell_type": "code",
   "execution_count": null,
   "metadata": {},
   "outputs": [],
   "source": [
    "Afum_IS_meta <- read.csv(file = \"../../output/PP_figures/746128_IS_meta.csv\") %>% \n",
    "    filter(mapGenome == \"AfumigatusAf293\") %>% \n",
    "    filter(origin != \"controls\") %>% \n",
    "    filter(type != \"ds-wcDNA\") %>%    \n",
    "    mutate(TLEN = abs(TLEN)) %>% \n",
    "    filter(TLEN >= -500 & TLEN <= 500) %>% \n",
    "    mutate(read = substr(side,1,2)) "
   ]
  },
  {
   "cell_type": "code",
   "execution_count": null,
   "metadata": {},
   "outputs": [],
   "source": [
    "host_nonMT <- host_nonMT_IS_meta %>% \n",
    "    group_by(sample_id, TLEN, sample_type, sample, type, patient, origin) %>% \n",
    "    summarise(sCount = sum(Count, na.rm = TRUE), .groups = \"keep\") %>%     \n",
    "    group_by(sample_id, sample_type, sample, type, patient, origin) %>% \n",
    "    mutate(nsCount = sCount/sum(sCount, na.rm = TRUE)*100) \n",
    "\n",
    "host_nonMT_summarized <- host_nonMT %>% \n",
    "    group_by(TLEN, sample_type, type) %>% \n",
    "    summarise(mnsCount = mean(nsCount, na.rm = TRUE), .groups = \"keep\")"
   ]
  },
  {
   "cell_type": "code",
   "execution_count": null,
   "metadata": {},
   "outputs": [],
   "source": [
    "host_nonMT_endX_TLEN <- host_nonMT_IS_meta %>% \n",
    "    mutate(EndX = substr(EndMotif,1,1)) %>% \n",
    "    group_by(sample_id, EndX, TLEN, sample_type, sample, type, read) %>% \n",
    "    summarise(sCount = sum(Count, na.rm = TRUE), .groups = \"keep\") %>%    \n",
    "    group_by(sample_id, TLEN, sample_type, sample, type, read) %>% \n",
    "    mutate(nsCount = sCount/sum(sCount, na.rm = TRUE)*100) \n",
    "\n",
    "host_nonMT_endX_TLEN_summarized <- host_nonMT_endX_TLEN %>% \n",
    "    group_by(TLEN, EndX, sample_type, sample, type, read) %>% \n",
    "    mutate(mnsCount = mean(nsCount))"
   ]
  },
  {
   "cell_type": "code",
   "execution_count": null,
   "metadata": {},
   "outputs": [],
   "source": [
    "host_nonMT_endX <- host_nonMT_IS_meta %>% \n",
    "    mutate(EndX = substr(EndMotif,1,1)) %>% \n",
    "    group_by(sample_id, origin, EndX, sample_type, sample, type, read) %>% \n",
    "    summarise(sCount = sum(Count, na.rm = TRUE), .groups = \"keep\") %>%\n",
    "    group_by(sample_id, origin, sample_type, sample, type, read) %>% \n",
    "    mutate(nsCount = sCount/sum(sCount, na.rm = TRUE)*100)\n",
    "\n",
    "host_nonMT_endXX <- host_nonMT_IS_meta %>% \n",
    "    mutate(EndX = substr(EndMotif,1,1)) %>% \n",
    "    mutate(EndXX = substr(EndMotif,1,2)) %>% \n",
    "    group_by(sample_id, origin, EndX, EndXX, sample_type, sample, type, read) %>% \n",
    "    summarise(sCount = sum(Count, na.rm = TRUE), .groups = \"keep\") %>%\n",
    "    group_by(sample_id, origin, sample_type, sample, type, read) %>% \n",
    "    mutate(nsCount = sCount/sum(sCount, na.rm = TRUE)*100)"
   ]
  },
  {
   "cell_type": "code",
   "execution_count": null,
   "metadata": {},
   "outputs": [],
   "source": [
    "Afum_endX <- Afum_IS_meta %>% \n",
    "    mutate(EndX = substr(EndMotif,1,1)) %>% \n",
    "    group_by(sample_id, origin, EndX, sample_type, sample, type, read) %>% \n",
    "    summarise(sCount = sum(Count, na.rm = TRUE), .groups = \"keep\") %>%\n",
    "    group_by(sample_id, origin, sample_type, sample, type, read) %>% \n",
    "    mutate(nsCount = sCount/sum(sCount, na.rm = TRUE)*100)\n",
    "\n",
    "Afum_endXX <- Afum_IS_meta %>% \n",
    "    mutate(EndX = substr(EndMotif,1,1)) %>% \n",
    "    mutate(EndXX = substr(EndMotif,1,2)) %>% \n",
    "    group_by(sample_id, origin, EndX, EndXX, sample_type, sample, type, read) %>% \n",
    "    summarise(sCount = sum(Count, na.rm = TRUE), .groups = \"keep\") %>%\n",
    "    group_by(sample_id, origin, sample_type, sample, type, read) %>% \n",
    "    mutate(nsCount = sCount/sum(sCount, na.rm = TRUE)*100)"
   ]
  },
  {
   "cell_type": "code",
   "execution_count": null,
   "metadata": {},
   "outputs": [],
   "source": [
    "#other normalizaiton, per bin, for clustering\n",
    "host_nonMT_endXX_binned <- host_nonMT_IS_meta %>% \n",
    "    mutate(EndXX = substr(EndMotif,1,2)) %>%    \n",
    "\n",
    "    group_by(sample_id, origin, EndXX, sample_type, sample, type, read) %>%\n",
    "    mutate(TLEN_bin = cut(TLEN, breaks = seq(35, 500, by = 1), include.lowest = TRUE)) %>%\n",
    "\n",
    "    group_by(sample_id, origin, EndXX, sample_type, sample, type, read, TLEN_bin) %>%\n",
    "    summarise(binCount = sum(Count, na.rm = TRUE), .groups = \"keep\") %>%\n",
    "\n",
    "    group_by(sample_id, origin, sample_type, sample, type, read, TLEN_bin) %>% \n",
    "    mutate(binCountNorm = binCount/sum(binCount, na.rm = TRUE)*100) %>% \n",
    "    \n",
    "    group_by(sample_id, origin, EndXX, sample_type, sample, type, read) %>% \n",
    "    summarise(nsCount = mean(binCountNorm), .groups = \"keep\") "
   ]
  },
  {
   "cell_type": "code",
   "execution_count": null,
   "metadata": {},
   "outputs": [],
   "source": [
    "plasma_sizeSelection <- read.table(\"../../output/sizeSelection/plasma_sizeSelection_output.txt\", \n",
    "                                   header = TRUE, sep = \"\\t\") \n",
    "BAL_sizeSelection <- read.table(\"../../output/sizeSelection/BAL_sizeSelection_output.txt\", \n",
    "                                header = TRUE, sep = \"\\t\") "
   ]
  },
  {
   "cell_type": "code",
   "execution_count": null,
   "metadata": {},
   "outputs": [],
   "source": [
    "plasma_sizeSelection_meta <- merge(x = samples_metadata, y = plasma_sizeSelection, by.x = \"sample_id\", by.y = \"sample_id\")  %>%\n",
    "    mutate(taxID_number_reads = ifelse(taxID_number_reads == QC_number_reads, yes = 0, no = taxID_number_reads)) %>% \n",
    "    mutate(taxName = case_when(\n",
    "        taxID == 1131492 ~ \"Aspergillaceae\", \n",
    "        taxID == 5052 ~ \"Aspergillus\",\n",
    "        taxID == 746128 ~ \"Aspergillus fumigatus\" # If there are other taxID values, keep them as is or change the default\n",
    "    )) %>% \n",
    "    filter(type != \"ds-wcDNA\") %>% filter(origin != \"control\") %>% \n",
    "    mutate(new_Filter = gsub(Filter, pattern = \"to\", replacement = \"-\")) %>% \n",
    "    mutate(new_Filter = factor(new_Filter, levels = c('35-50','35-75','35-100','35-125','35-150','35-1000','noFilter'))) \n",
    "\n",
    "BAL_sizeSelection_meta <- merge(x = samples_metadata, y = BAL_sizeSelection, by.x = \"sample_id\", by.y = \"sample_id\")  %>% \n",
    "    mutate(taxID_number_reads = ifelse(taxID_number_reads == QC_number_reads, yes = 0, no = taxID_number_reads)) %>% \n",
    "    mutate(taxName = case_when(\n",
    "        taxID == 1131492 ~ \"Aspergillaceae\", \n",
    "        taxID == 5052 ~ \"Aspergillus\",\n",
    "        taxID == 746128 ~ \"Aspergillus fumigatus\" # If there are other taxID values, keep them as is or change the default\n",
    "    )) %>% \n",
    "    filter(type != \"ds-wcDNA\") %>% filter(origin != \"control\") %>% \n",
    "    mutate(new_Filter = gsub(Filter, pattern = \"to\", replacement = \"-\")) %>% \n",
    "    mutate(new_Filter = factor(new_Filter, levels = c('35-50','35-75','35-100','35-125','35-150','35-1000','noFilter'))) "
   ]
  },
  {
   "cell_type": "code",
   "execution_count": null,
   "metadata": {},
   "outputs": [],
   "source": [
    "QCreads_endX <- read.table(\"../../output/PP_figures/QCreads_EndMotifs.csv\", \n",
    "           header = TRUE, sep = \",\") %>% \n",
    "    mutate(EndX = substr(EndMotif,1,1)) %>% \n",
    "    group_by(sample_id, sample_type, sample, type, patient, origin, read, EndX) %>% \n",
    "    summarise(sCount = sum(Count, na.rm = TRUE), .groups = \"keep\") \n",
    "\n",
    "QCreads_endXX <- read.table(\"../../output/PP_figures/QCreads_EndMotifs.csv\", \n",
    "           header = TRUE, sep = \",\") %>% \n",
    "    mutate(EndX = substr(EndMotif,1,1)) %>% \n",
    "    mutate(EndXX = substr(EndMotif,1,2)) %>% \n",
    "    group_by(sample_id, sample_type, sample, type, patient, origin, read, EndX, EndXX) %>% \n",
    "    summarise(sCount = sum(Count, na.rm = TRUE), .groups = \"keep\") "
   ]
  },
  {
   "cell_type": "markdown",
   "metadata": {},
   "source": [
    "host_nonMT_endX <- host_nonMT_IS_meta %>% \n",
    "    mutate(EndX = substr(EndMotif,1,1)) %>% \n",
    "    group_by(sample_id, origin, EndX, sample_type, sample, type, read) %>% \n",
    "    summarise(sCount = sum(Count, na.rm = TRUE), .groups = \"keep\") %>%    \n",
    "    group_by(sample_id, origin, sample_type, sample, type, read) %>% \n",
    "    mutate(nsCount = sCount/sum(sCount, na.rm = TRUE)*100)  \n",
    "\n",
    "host_nonMT_endX_33ntSplit <- host_nonMT_IS_meta %>% \n",
    "    mutate(TLEN_bin = cut(TLEN, breaks = seq(0, 500, by = 100), include.lowest = TRUE)) %>% \n",
    "    mutate(EndX = substr(EndMotif,1,1)) %>% \n",
    "    group_by(sample_id, origin, TLEN_bin, EndX, sample_type, sample, type, read) %>% \n",
    "    summarise(sCount = sum(Count, na.rm = TRUE), .groups = \"keep\") %>%    \n",
    "    group_by(sample_id, origin, TLEN_bin, sample_type, sample, type, read) %>% \n",
    "    mutate(nsCount = sCount/sum(sCount, na.rm = TRUE)*100) \n",
    "\n",
    "host_nonMT_endXX <- host_nonMT_IS_meta %>% \n",
    "    mutate(EndXX = substr(EndMotif,1,2)) %>% \n",
    "\n",
    "    group_by(sample_id, origin, EndXX, sample_type, sample, type, read) %>% \n",
    "    summarise(sCount = sum(Count, na.rm = TRUE), .groups = \"keep\") %>%    \n",
    "\n",
    "    group_by(sample_id, origin, sample_type, sample, type, read) %>% \n",
    "    mutate(nsCount = sCount/sum(sCount, na.rm = TRUE)*100)  \n",
    "\n",
    "host_nonMT_endXXX <- host_nonMT_IS_meta %>%  \n",
    "    mutate(EndX = substr(EndMotif,1,3)) %>% \n",
    "    group_by(sample_id, origin, EndX, sample_type, sample, type, read) %>% \n",
    "    summarise(sCount = sum(Count, na.rm = TRUE), .groups = \"keep\") %>%    \n",
    "    group_by(sample_id, origin, sample_type, sample, type, read) %>% \n",
    "    mutate(nsCount = sCount/sum(sCount, na.rm = TRUE)*100)  "
   ]
  }
 ],
 "metadata": {
  "kernelspec": {
   "display_name": "R [conda env:r4.2.0]",
   "language": "R",
   "name": "conda-env-r4.2.0-r"
  },
  "language_info": {
   "codemirror_mode": "r",
   "file_extension": ".r",
   "mimetype": "text/x-r-source",
   "name": "R",
   "pygments_lexer": "r",
   "version": "4.2.3"
  }
 },
 "nbformat": 4,
 "nbformat_minor": 4
}
