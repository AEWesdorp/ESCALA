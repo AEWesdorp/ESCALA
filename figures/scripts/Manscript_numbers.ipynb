{
 "cells": [
  {
   "cell_type": "code",
   "execution_count": 1,
   "metadata": {},
   "outputs": [
    {
     "name": "stderr",
     "output_type": "stream",
     "text": [
      "Loading required package: Rsamtools\n",
      "\n",
      "Loading required package: GenomeInfoDb\n",
      "\n",
      "Loading required package: BiocGenerics\n",
      "\n",
      "\n",
      "Attaching package: ‘BiocGenerics’\n",
      "\n",
      "\n",
      "The following objects are masked from ‘package:stats’:\n",
      "\n",
      "    IQR, mad, sd, var, xtabs\n",
      "\n",
      "\n",
      "The following objects are masked from ‘package:base’:\n",
      "\n",
      "    anyDuplicated, aperm, append, as.data.frame, basename, cbind,\n",
      "    colnames, dirname, do.call, duplicated, eval, evalq, Filter, Find,\n",
      "    get, grep, grepl, intersect, is.unsorted, lapply, Map, mapply,\n",
      "    match, mget, order, paste, pmax, pmax.int, pmin, pmin.int,\n",
      "    Position, rank, rbind, Reduce, rownames, sapply, setdiff, sort,\n",
      "    table, tapply, union, unique, unsplit, which.max, which.min\n",
      "\n",
      "\n",
      "Loading required package: S4Vectors\n",
      "\n",
      "Loading required package: stats4\n",
      "\n",
      "\n",
      "Attaching package: ‘S4Vectors’\n",
      "\n",
      "\n",
      "The following objects are masked from ‘package:base’:\n",
      "\n",
      "    expand.grid, I, unname\n",
      "\n",
      "\n",
      "Loading required package: IRanges\n",
      "\n",
      "Loading required package: GenomicRanges\n",
      "\n",
      "Loading required package: Biostrings\n",
      "\n",
      "Loading required package: XVector\n",
      "\n",
      "\n",
      "Attaching package: ‘Biostrings’\n",
      "\n",
      "\n",
      "The following object is masked from ‘package:base’:\n",
      "\n",
      "    strsplit\n",
      "\n",
      "\n",
      "Loading required package: Hmisc\n",
      "\n",
      "\n",
      "Attaching package: ‘Hmisc’\n",
      "\n",
      "\n",
      "The following objects are masked from ‘package:Biostrings’:\n",
      "\n",
      "    mask, translate\n",
      "\n",
      "\n",
      "The following objects are masked from ‘package:base’:\n",
      "\n",
      "    format.pval, units\n",
      "\n",
      "\n",
      "Loading required package: dplyr\n",
      "\n",
      "\n",
      "Attaching package: ‘dplyr’\n",
      "\n",
      "\n",
      "The following objects are masked from ‘package:Hmisc’:\n",
      "\n",
      "    src, summarize\n",
      "\n",
      "\n",
      "The following objects are masked from ‘package:Biostrings’:\n",
      "\n",
      "    collapse, intersect, setdiff, setequal, union\n",
      "\n",
      "\n",
      "The following object is masked from ‘package:XVector’:\n",
      "\n",
      "    slice\n",
      "\n",
      "\n",
      "The following objects are masked from ‘package:GenomicRanges’:\n",
      "\n",
      "    intersect, setdiff, union\n",
      "\n",
      "\n",
      "The following object is masked from ‘package:GenomeInfoDb’:\n",
      "\n",
      "    intersect\n",
      "\n",
      "\n",
      "The following objects are masked from ‘package:IRanges’:\n",
      "\n",
      "    collapse, desc, intersect, setdiff, slice, union\n",
      "\n",
      "\n",
      "The following objects are masked from ‘package:S4Vectors’:\n",
      "\n",
      "    first, intersect, rename, setdiff, setequal, union\n",
      "\n",
      "\n",
      "The following objects are masked from ‘package:BiocGenerics’:\n",
      "\n",
      "    combine, intersect, setdiff, union\n",
      "\n",
      "\n",
      "The following objects are masked from ‘package:stats’:\n",
      "\n",
      "    filter, lag\n",
      "\n",
      "\n",
      "The following objects are masked from ‘package:base’:\n",
      "\n",
      "    intersect, setdiff, setequal, union\n",
      "\n",
      "\n",
      "Loading required package: ggplot2\n",
      "\n",
      "Loading required package: stringi\n",
      "\n",
      "Loading required package: data.table\n",
      "\n",
      "\n",
      "Attaching package: ‘data.table’\n",
      "\n",
      "\n",
      "The following objects are masked from ‘package:dplyr’:\n",
      "\n",
      "    between, first, last\n",
      "\n",
      "\n",
      "The following object is masked from ‘package:GenomicRanges’:\n",
      "\n",
      "    shift\n",
      "\n",
      "\n",
      "The following object is masked from ‘package:IRanges’:\n",
      "\n",
      "    shift\n",
      "\n",
      "\n",
      "The following objects are masked from ‘package:S4Vectors’:\n",
      "\n",
      "    first, second\n",
      "\n",
      "\n",
      "Loading required package: tidyverse\n",
      "\n",
      "── \u001b[1mAttaching core tidyverse packages\u001b[22m ──────────────────────────────────────────────────────────────────────────────────────────────── tidyverse 2.0.0 ──\n",
      "\u001b[32m✔\u001b[39m \u001b[34mforcats  \u001b[39m 1.0.0     \u001b[32m✔\u001b[39m \u001b[34mstringr  \u001b[39m 1.5.0\n",
      "\u001b[32m✔\u001b[39m \u001b[34mlubridate\u001b[39m 1.9.2     \u001b[32m✔\u001b[39m \u001b[34mtibble   \u001b[39m 3.2.1\n",
      "\u001b[32m✔\u001b[39m \u001b[34mpurrr    \u001b[39m 1.0.1     \u001b[32m✔\u001b[39m \u001b[34mtidyr    \u001b[39m 1.3.0\n",
      "\u001b[32m✔\u001b[39m \u001b[34mreadr    \u001b[39m 2.1.4     \n",
      "── \u001b[1mConflicts\u001b[22m ────────────────────────────────────────────────────────────────────────────────────────────────────────────────── tidyverse_conflicts() ──\n",
      "\u001b[31m✖\u001b[39m \u001b[34mlubridate\u001b[39m::\u001b[32m%within%()\u001b[39m masks \u001b[34mIRanges\u001b[39m::%within%()\n",
      "\u001b[31m✖\u001b[39m \u001b[34mdata.table\u001b[39m::\u001b[32mbetween()\u001b[39m masks \u001b[34mdplyr\u001b[39m::between()\n",
      "\u001b[31m✖\u001b[39m \u001b[34mdplyr\u001b[39m::\u001b[32mcollapse()\u001b[39m     masks \u001b[34mBiostrings\u001b[39m::collapse(), \u001b[34mIRanges\u001b[39m::collapse()\n",
      "\u001b[31m✖\u001b[39m \u001b[34mdplyr\u001b[39m::\u001b[32mcombine()\u001b[39m      masks \u001b[34mBiocGenerics\u001b[39m::combine()\n",
      "\u001b[31m✖\u001b[39m \u001b[34mpurrr\u001b[39m::\u001b[32mcompact()\u001b[39m      masks \u001b[34mXVector\u001b[39m::compact()\n",
      "\u001b[31m✖\u001b[39m \u001b[34mdplyr\u001b[39m::\u001b[32mdesc()\u001b[39m         masks \u001b[34mIRanges\u001b[39m::desc()\n",
      "\u001b[31m✖\u001b[39m \u001b[34mtidyr\u001b[39m::\u001b[32mexpand()\u001b[39m       masks \u001b[34mS4Vectors\u001b[39m::expand()\n",
      "\u001b[31m✖\u001b[39m \u001b[34mdplyr\u001b[39m::\u001b[32mfilter()\u001b[39m       masks \u001b[34mstats\u001b[39m::filter()\n",
      "\u001b[31m✖\u001b[39m \u001b[34mdata.table\u001b[39m::\u001b[32mfirst()\u001b[39m   masks \u001b[34mdplyr\u001b[39m::first(), \u001b[34mS4Vectors\u001b[39m::first()\n",
      "\u001b[31m✖\u001b[39m \u001b[34mlubridate\u001b[39m::\u001b[32mhour()\u001b[39m     masks \u001b[34mdata.table\u001b[39m::hour()\n",
      "\u001b[31m✖\u001b[39m \u001b[34mlubridate\u001b[39m::\u001b[32misoweek()\u001b[39m  masks \u001b[34mdata.table\u001b[39m::isoweek()\n",
      "\u001b[31m✖\u001b[39m \u001b[34mdplyr\u001b[39m::\u001b[32mlag()\u001b[39m          masks \u001b[34mstats\u001b[39m::lag()\n",
      "\u001b[31m✖\u001b[39m \u001b[34mdata.table\u001b[39m::\u001b[32mlast()\u001b[39m    masks \u001b[34mdplyr\u001b[39m::last()\n",
      "\u001b[31m✖\u001b[39m \u001b[34mlubridate\u001b[39m::\u001b[32mmday()\u001b[39m     masks \u001b[34mdata.table\u001b[39m::mday()\n",
      "\u001b[31m✖\u001b[39m \u001b[34mlubridate\u001b[39m::\u001b[32mminute()\u001b[39m   masks \u001b[34mdata.table\u001b[39m::minute()\n",
      "\u001b[31m✖\u001b[39m \u001b[34mlubridate\u001b[39m::\u001b[32mmonth()\u001b[39m    masks \u001b[34mdata.table\u001b[39m::month()\n",
      "\u001b[31m✖\u001b[39m \u001b[34mggplot2\u001b[39m::\u001b[32mPosition()\u001b[39m   masks \u001b[34mBiocGenerics\u001b[39m::Position(), \u001b[34mbase\u001b[39m::Position()\n",
      "\u001b[31m✖\u001b[39m \u001b[34mlubridate\u001b[39m::\u001b[32mquarter()\u001b[39m  masks \u001b[34mdata.table\u001b[39m::quarter()\n",
      "\u001b[31m✖\u001b[39m \u001b[34mpurrr\u001b[39m::\u001b[32mreduce()\u001b[39m       masks \u001b[34mGenomicRanges\u001b[39m::reduce(), \u001b[34mIRanges\u001b[39m::reduce()\n",
      "\u001b[31m✖\u001b[39m \u001b[34mdplyr\u001b[39m::\u001b[32mrename()\u001b[39m       masks \u001b[34mS4Vectors\u001b[39m::rename()\n",
      "\u001b[31m✖\u001b[39m \u001b[34mlubridate\u001b[39m::\u001b[32msecond()\u001b[39m   masks \u001b[34mdata.table\u001b[39m::second(), \u001b[34mS4Vectors\u001b[39m::second()\n",
      "\u001b[31m✖\u001b[39m \u001b[34mlubridate\u001b[39m::\u001b[32msecond<-()\u001b[39m masks \u001b[34mS4Vectors\u001b[39m::second<-()\n",
      "\u001b[31m✖\u001b[39m \u001b[34mdplyr\u001b[39m::\u001b[32mslice()\u001b[39m        masks \u001b[34mXVector\u001b[39m::slice(), \u001b[34mIRanges\u001b[39m::slice()\n",
      "\u001b[31m✖\u001b[39m \u001b[34mdplyr\u001b[39m::\u001b[32msrc()\u001b[39m          masks \u001b[34mHmisc\u001b[39m::src()\n",
      "\u001b[31m✖\u001b[39m \u001b[34mdplyr\u001b[39m::\u001b[32msummarize()\u001b[39m    masks \u001b[34mHmisc\u001b[39m::summarize()\n",
      "\u001b[31m✖\u001b[39m \u001b[34mpurrr\u001b[39m::\u001b[32mtranspose()\u001b[39m    masks \u001b[34mdata.table\u001b[39m::transpose()\n",
      "\u001b[31m✖\u001b[39m \u001b[34mlubridate\u001b[39m::\u001b[32mwday()\u001b[39m     masks \u001b[34mdata.table\u001b[39m::wday()\n",
      "\u001b[31m✖\u001b[39m \u001b[34mlubridate\u001b[39m::\u001b[32mweek()\u001b[39m     masks \u001b[34mdata.table\u001b[39m::week()\n",
      "\u001b[31m✖\u001b[39m \u001b[34mlubridate\u001b[39m::\u001b[32myday()\u001b[39m     masks \u001b[34mdata.table\u001b[39m::yday()\n",
      "\u001b[31m✖\u001b[39m \u001b[34mlubridate\u001b[39m::\u001b[32myear()\u001b[39m     masks \u001b[34mdata.table\u001b[39m::year()\n",
      "\u001b[36mℹ\u001b[39m Use the conflicted package (\u001b[3m\u001b[34m<http://conflicted.r-lib.org/>\u001b[39m\u001b[23m) to force all conflicts to become errors\n",
      "Loading required package: Rtsne\n",
      "\n",
      "Loading required package: patchwork\n",
      "\n",
      "Loading required package: R.utils\n",
      "\n",
      "Loading required package: R.oo\n",
      "\n",
      "Loading required package: R.methodsS3\n",
      "\n",
      "R.methodsS3 v1.8.2 (2022-06-13 22:00:14 UTC) successfully loaded. See ?R.methodsS3 for help.\n",
      "\n",
      "R.oo v1.26.0 (2024-01-24 05:12:50 UTC) successfully loaded. See ?R.oo for help.\n",
      "\n",
      "\n",
      "Attaching package: ‘R.oo’\n",
      "\n",
      "\n",
      "The following object is masked from ‘package:R.methodsS3’:\n",
      "\n",
      "    throw\n",
      "\n",
      "\n",
      "The following object is masked from ‘package:GenomicRanges’:\n",
      "\n",
      "    trim\n",
      "\n",
      "\n",
      "The following object is masked from ‘package:IRanges’:\n",
      "\n",
      "    trim\n",
      "\n",
      "\n",
      "The following objects are masked from ‘package:methods’:\n",
      "\n",
      "    getClasses, getMethods\n",
      "\n",
      "\n",
      "The following objects are masked from ‘package:base’:\n",
      "\n",
      "    attach, detach, load, save\n",
      "\n",
      "\n",
      "R.utils v2.12.3 (2023-11-18 01:00:02 UTC) successfully loaded. See ?R.utils for help.\n",
      "\n",
      "\n",
      "Attaching package: ‘R.utils’\n",
      "\n",
      "\n",
      "The following object is masked from ‘package:tidyr’:\n",
      "\n",
      "    extract\n",
      "\n",
      "\n",
      "The following object is masked from ‘package:Hmisc’:\n",
      "\n",
      "    capitalize\n",
      "\n",
      "\n",
      "The following object is masked from ‘package:Rsamtools’:\n",
      "\n",
      "    isOpen\n",
      "\n",
      "\n",
      "The following object is masked from ‘package:utils’:\n",
      "\n",
      "    timestamp\n",
      "\n",
      "\n",
      "The following objects are masked from ‘package:base’:\n",
      "\n",
      "    cat, commandArgs, getOption, isOpen, nullfile, parse, warnings\n",
      "\n",
      "\n",
      "Loading required package: pheatmap\n",
      "\n",
      "Loading required package: ggridges\n",
      "\n",
      "Loading required package: TSdist\n",
      "\n",
      "Loading required package: proxy\n",
      "\n",
      "\n",
      "Attaching package: ‘proxy’\n",
      "\n",
      "\n",
      "The following object is masked from ‘package:Biostrings’:\n",
      "\n",
      "    as.matrix\n",
      "\n",
      "\n",
      "The following object is masked from ‘package:IRanges’:\n",
      "\n",
      "    as.matrix\n",
      "\n",
      "\n",
      "The following object is masked from ‘package:S4Vectors’:\n",
      "\n",
      "    as.matrix\n",
      "\n",
      "\n",
      "The following objects are masked from ‘package:stats’:\n",
      "\n",
      "    as.dist, dist\n",
      "\n",
      "\n"
     ]
    },
    {
     "name": "stderr",
     "output_type": "stream",
     "text": [
      "The following object is masked from ‘package:base’:\n",
      "\n",
      "    as.matrix\n",
      "\n",
      "\n",
      "Warning message:\n",
      "“no DISPLAY variable so Tk is not available”\n",
      "Registered S3 method overwritten by 'quantmod':\n",
      "  method            from\n",
      "  as.zoo.data.frame zoo \n",
      "\n",
      "Loaded TSdist v3.7.1. See ?TSdist for help, citation(\"TSdist\") for use in publication.\n",
      "\n",
      "\n",
      "Loading required package: dtplyr\n",
      "\n",
      "Loading required package: profvis\n",
      "\n",
      "Loading required package: ggforce\n",
      "\n",
      "Loading required package: pracma\n",
      "\n",
      "\n",
      "Attaching package: ‘pracma’\n",
      "\n",
      "\n",
      "The following object is masked from ‘package:purrr’:\n",
      "\n",
      "    cross\n",
      "\n",
      "\n",
      "The following object is masked from ‘package:Hmisc’:\n",
      "\n",
      "    ceil\n",
      "\n",
      "\n",
      "Loading required package: rstatix\n",
      "\n",
      "\n",
      "Attaching package: ‘rstatix’\n",
      "\n",
      "\n",
      "The following object is masked from ‘package:IRanges’:\n",
      "\n",
      "    desc\n",
      "\n",
      "\n",
      "The following object is masked from ‘package:stats’:\n",
      "\n",
      "    filter\n",
      "\n",
      "\n",
      "Loading required package: ggpubr\n",
      "\n",
      "Loading required package: jsonlite\n",
      "\n",
      "\n",
      "Attaching package: ‘jsonlite’\n",
      "\n",
      "\n",
      "The following object is masked from ‘package:R.utils’:\n",
      "\n",
      "    validate\n",
      "\n",
      "\n",
      "The following object is masked from ‘package:purrr’:\n",
      "\n",
      "    flatten\n",
      "\n",
      "\n",
      "Loading required package: matrixStats\n",
      "\n",
      "\n",
      "Attaching package: ‘matrixStats’\n",
      "\n",
      "\n",
      "The following object is masked from ‘package:dplyr’:\n",
      "\n",
      "    count\n",
      "\n",
      "\n"
     ]
    }
   ],
   "source": [
    "f_func <- \"./functions.ipynb\"\n",
    "eval(parse(text = system2('jupyter', c('nbconvert', f_func, '--to=script', '--stdout'), stdout = TRUE)))\n",
    "\n",
    "f_data_loading <- \"./data_loading.ipynb\"\n",
    "eval(parse(text = system2('jupyter', c('nbconvert', f_data_loading, '--to=script', '--stdout'), stdout = TRUE)))"
   ]
  },
  {
   "cell_type": "code",
   "execution_count": 2,
   "metadata": {},
   "outputs": [
    {
     "data": {
      "text/html": [
       "35"
      ],
      "text/latex": [
       "35"
      ],
      "text/markdown": [
       "35"
      ],
      "text/plain": [
       "[1] 35"
      ]
     },
     "metadata": {},
     "output_type": "display_data"
    }
   ],
   "source": [
    "host_nonMT$TLEN %>% min()"
   ]
  },
  {
   "cell_type": "code",
   "execution_count": 3,
   "metadata": {},
   "outputs": [
    {
     "data": {
      "text/html": [
       "34"
      ],
      "text/latex": [
       "34"
      ],
      "text/markdown": [
       "34"
      ],
      "text/plain": [
       "[1] 34"
      ]
     },
     "metadata": {},
     "output_type": "display_data"
    },
    {
     "data": {
      "text/html": [
       "<table class=\"dataframe\">\n",
       "<caption>A data.table: 6 × 7</caption>\n",
       "<thead>\n",
       "\t<tr><th scope=col>sample_id</th><th scope=col>origin</th><th scope=col>sample_short</th><th scope=col>patient</th><th scope=col>sample</th><th scope=col>type</th><th scope=col>sample_type</th></tr>\n",
       "\t<tr><th scope=col>&lt;chr&gt;</th><th scope=col>&lt;chr&gt;</th><th scope=col>&lt;chr&gt;</th><th scope=col>&lt;chr&gt;</th><th scope=col>&lt;chr&gt;</th><th scope=col>&lt;chr&gt;</th><th scope=col>&lt;chr&gt;</th></tr>\n",
       "</thead>\n",
       "<tbody>\n",
       "\t<tr><td>A05Pasp   </td><td>IPA samples</td><td>Pasp   </td><td>A05</td><td>plasma</td><td>ssLP</td><td>ssLP plasma</td></tr>\n",
       "\t<tr><td>A01Pasp   </td><td>IPA samples</td><td>Pasp   </td><td>A01</td><td>plasma</td><td>ssLP</td><td>ssLP plasma</td></tr>\n",
       "\t<tr><td>A02Pasp   </td><td>IPA samples</td><td>Pasp   </td><td>A02</td><td>plasma</td><td>ssLP</td><td>ssLP plasma</td></tr>\n",
       "\t<tr><td>A03Pasp   </td><td>IPA samples</td><td>Pasp   </td><td>A03</td><td>plasma</td><td>ssLP</td><td>ssLP plasma</td></tr>\n",
       "\t<tr><td>A05PaspVAL</td><td>IPA samples</td><td>PaspVAL</td><td>A05</td><td>plasma</td><td>ssLP</td><td>ssLP plasma</td></tr>\n",
       "\t<tr><td>A04Pasp   </td><td>IPA samples</td><td>Pasp   </td><td>A04</td><td>plasma</td><td>ssLP</td><td>ssLP plasma</td></tr>\n",
       "</tbody>\n",
       "</table>\n"
      ],
      "text/latex": [
       "A data.table: 6 × 7\n",
       "\\begin{tabular}{lllllll}\n",
       " sample\\_id & origin & sample\\_short & patient & sample & type & sample\\_type\\\\\n",
       " <chr> & <chr> & <chr> & <chr> & <chr> & <chr> & <chr>\\\\\n",
       "\\hline\n",
       "\t A05Pasp    & IPA samples & Pasp    & A05 & plasma & ssLP & ssLP plasma\\\\\n",
       "\t A01Pasp    & IPA samples & Pasp    & A01 & plasma & ssLP & ssLP plasma\\\\\n",
       "\t A02Pasp    & IPA samples & Pasp    & A02 & plasma & ssLP & ssLP plasma\\\\\n",
       "\t A03Pasp    & IPA samples & Pasp    & A03 & plasma & ssLP & ssLP plasma\\\\\n",
       "\t A05PaspVAL & IPA samples & PaspVAL & A05 & plasma & ssLP & ssLP plasma\\\\\n",
       "\t A04Pasp    & IPA samples & Pasp    & A04 & plasma & ssLP & ssLP plasma\\\\\n",
       "\\end{tabular}\n"
      ],
      "text/markdown": [
       "\n",
       "A data.table: 6 × 7\n",
       "\n",
       "| sample_id &lt;chr&gt; | origin &lt;chr&gt; | sample_short &lt;chr&gt; | patient &lt;chr&gt; | sample &lt;chr&gt; | type &lt;chr&gt; | sample_type &lt;chr&gt; |\n",
       "|---|---|---|---|---|---|---|\n",
       "| A05Pasp    | IPA samples | Pasp    | A05 | plasma | ssLP | ssLP plasma |\n",
       "| A01Pasp    | IPA samples | Pasp    | A01 | plasma | ssLP | ssLP plasma |\n",
       "| A02Pasp    | IPA samples | Pasp    | A02 | plasma | ssLP | ssLP plasma |\n",
       "| A03Pasp    | IPA samples | Pasp    | A03 | plasma | ssLP | ssLP plasma |\n",
       "| A05PaspVAL | IPA samples | PaspVAL | A05 | plasma | ssLP | ssLP plasma |\n",
       "| A04Pasp    | IPA samples | Pasp    | A04 | plasma | ssLP | ssLP plasma |\n",
       "\n"
      ],
      "text/plain": [
       "  sample_id  origin      sample_short patient sample type sample_type\n",
       "1 A05Pasp    IPA samples Pasp         A05     plasma ssLP ssLP plasma\n",
       "2 A01Pasp    IPA samples Pasp         A01     plasma ssLP ssLP plasma\n",
       "3 A02Pasp    IPA samples Pasp         A02     plasma ssLP ssLP plasma\n",
       "4 A03Pasp    IPA samples Pasp         A03     plasma ssLP ssLP plasma\n",
       "5 A05PaspVAL IPA samples PaspVAL      A05     plasma ssLP ssLP plasma\n",
       "6 A04Pasp    IPA samples Pasp         A04     plasma ssLP ssLP plasma"
      ]
     },
     "metadata": {},
     "output_type": "display_data"
    },
    {
     "data": {
      "text/html": [
       "<table class=\"dataframe\">\n",
       "<caption>A tibble: 4 × 2</caption>\n",
       "<thead>\n",
       "\t<tr><th scope=col>sample_type</th><th scope=col>nr_samples</th></tr>\n",
       "\t<tr><th scope=col>&lt;chr&gt;</th><th scope=col>&lt;int&gt;</th></tr>\n",
       "</thead>\n",
       "<tbody>\n",
       "\t<tr><td>dsLP BAL   </td><td>10</td></tr>\n",
       "\t<tr><td>dsLP plasma</td><td> 8</td></tr>\n",
       "\t<tr><td>ssLP BAL   </td><td>23</td></tr>\n",
       "\t<tr><td>ssLP plasma</td><td>25</td></tr>\n",
       "</tbody>\n",
       "</table>\n"
      ],
      "text/latex": [
       "A tibble: 4 × 2\n",
       "\\begin{tabular}{ll}\n",
       " sample\\_type & nr\\_samples\\\\\n",
       " <chr> & <int>\\\\\n",
       "\\hline\n",
       "\t dsLP BAL    & 10\\\\\n",
       "\t dsLP plasma &  8\\\\\n",
       "\t ssLP BAL    & 23\\\\\n",
       "\t ssLP plasma & 25\\\\\n",
       "\\end{tabular}\n"
      ],
      "text/markdown": [
       "\n",
       "A tibble: 4 × 2\n",
       "\n",
       "| sample_type &lt;chr&gt; | nr_samples &lt;int&gt; |\n",
       "|---|---|\n",
       "| dsLP BAL    | 10 |\n",
       "| dsLP plasma |  8 |\n",
       "| ssLP BAL    | 23 |\n",
       "| ssLP plasma | 25 |\n",
       "\n"
      ],
      "text/plain": [
       "  sample_type nr_samples\n",
       "1 dsLP BAL    10        \n",
       "2 dsLP plasma  8        \n",
       "3 ssLP BAL    23        \n",
       "4 ssLP plasma 25        "
      ]
     },
     "metadata": {},
     "output_type": "display_data"
    },
    {
     "data": {
      "text/html": [
       "<table class=\"dataframe\">\n",
       "<caption>A tibble: 4 × 2</caption>\n",
       "<thead>\n",
       "\t<tr><th scope=col>origin</th><th scope=col>nr_samples</th></tr>\n",
       "\t<tr><th scope=col>&lt;chr&gt;</th><th scope=col>&lt;int&gt;</th></tr>\n",
       "</thead>\n",
       "<tbody>\n",
       "\t<tr><td>External controls</td><td>20</td></tr>\n",
       "\t<tr><td>IPA samples      </td><td>31</td></tr>\n",
       "\t<tr><td>Internal controls</td><td>12</td></tr>\n",
       "\t<tr><td>Other molds      </td><td> 3</td></tr>\n",
       "</tbody>\n",
       "</table>\n"
      ],
      "text/latex": [
       "A tibble: 4 × 2\n",
       "\\begin{tabular}{ll}\n",
       " origin & nr\\_samples\\\\\n",
       " <chr> & <int>\\\\\n",
       "\\hline\n",
       "\t External controls & 20\\\\\n",
       "\t IPA samples       & 31\\\\\n",
       "\t Internal controls & 12\\\\\n",
       "\t Other molds       &  3\\\\\n",
       "\\end{tabular}\n"
      ],
      "text/markdown": [
       "\n",
       "A tibble: 4 × 2\n",
       "\n",
       "| origin &lt;chr&gt; | nr_samples &lt;int&gt; |\n",
       "|---|---|\n",
       "| External controls | 20 |\n",
       "| IPA samples       | 31 |\n",
       "| Internal controls | 12 |\n",
       "| Other molds       |  3 |\n",
       "\n"
      ],
      "text/plain": [
       "  origin            nr_samples\n",
       "1 External controls 20        \n",
       "2 IPA samples       31        \n",
       "3 Internal controls 12        \n",
       "4 Other molds        3        "
      ]
     },
     "metadata": {},
     "output_type": "display_data"
    },
    {
     "name": "stderr",
     "output_type": "stream",
     "text": [
      "\u001b[1m\u001b[22m`summarise()` has grouped output by 'sample_type'. You can override using the `.groups` argument.\n"
     ]
    },
    {
     "data": {
      "text/html": [
       "<table class=\"dataframe\">\n",
       "<caption>A grouped_df: 10 × 3</caption>\n",
       "<thead>\n",
       "\t<tr><th scope=col>sample_type</th><th scope=col>origin</th><th scope=col>nr_samples</th></tr>\n",
       "\t<tr><th scope=col>&lt;chr&gt;</th><th scope=col>&lt;chr&gt;</th><th scope=col>&lt;int&gt;</th></tr>\n",
       "</thead>\n",
       "<tbody>\n",
       "\t<tr><td>dsLP BAL   </td><td>IPA samples      </td><td>10</td></tr>\n",
       "\t<tr><td>dsLP plasma</td><td>IPA samples      </td><td> 4</td></tr>\n",
       "\t<tr><td>dsLP plasma</td><td>Internal controls</td><td> 4</td></tr>\n",
       "\t<tr><td>ssLP BAL   </td><td>External controls</td><td>11</td></tr>\n",
       "\t<tr><td>ssLP BAL   </td><td>IPA samples      </td><td>11</td></tr>\n",
       "\t<tr><td>ssLP BAL   </td><td>Other molds      </td><td> 1</td></tr>\n",
       "\t<tr><td>ssLP plasma</td><td>External controls</td><td> 9</td></tr>\n",
       "\t<tr><td>ssLP plasma</td><td>IPA samples      </td><td> 6</td></tr>\n",
       "\t<tr><td>ssLP plasma</td><td>Internal controls</td><td> 8</td></tr>\n",
       "\t<tr><td>ssLP plasma</td><td>Other molds      </td><td> 2</td></tr>\n",
       "</tbody>\n",
       "</table>\n"
      ],
      "text/latex": [
       "A grouped\\_df: 10 × 3\n",
       "\\begin{tabular}{lll}\n",
       " sample\\_type & origin & nr\\_samples\\\\\n",
       " <chr> & <chr> & <int>\\\\\n",
       "\\hline\n",
       "\t dsLP BAL    & IPA samples       & 10\\\\\n",
       "\t dsLP plasma & IPA samples       &  4\\\\\n",
       "\t dsLP plasma & Internal controls &  4\\\\\n",
       "\t ssLP BAL    & External controls & 11\\\\\n",
       "\t ssLP BAL    & IPA samples       & 11\\\\\n",
       "\t ssLP BAL    & Other molds       &  1\\\\\n",
       "\t ssLP plasma & External controls &  9\\\\\n",
       "\t ssLP plasma & IPA samples       &  6\\\\\n",
       "\t ssLP plasma & Internal controls &  8\\\\\n",
       "\t ssLP plasma & Other molds       &  2\\\\\n",
       "\\end{tabular}\n"
      ],
      "text/markdown": [
       "\n",
       "A grouped_df: 10 × 3\n",
       "\n",
       "| sample_type &lt;chr&gt; | origin &lt;chr&gt; | nr_samples &lt;int&gt; |\n",
       "|---|---|---|\n",
       "| dsLP BAL    | IPA samples       | 10 |\n",
       "| dsLP plasma | IPA samples       |  4 |\n",
       "| dsLP plasma | Internal controls |  4 |\n",
       "| ssLP BAL    | External controls | 11 |\n",
       "| ssLP BAL    | IPA samples       | 11 |\n",
       "| ssLP BAL    | Other molds       |  1 |\n",
       "| ssLP plasma | External controls |  9 |\n",
       "| ssLP plasma | IPA samples       |  6 |\n",
       "| ssLP plasma | Internal controls |  8 |\n",
       "| ssLP plasma | Other molds       |  2 |\n",
       "\n"
      ],
      "text/plain": [
       "   sample_type origin            nr_samples\n",
       "1  dsLP BAL    IPA samples       10        \n",
       "2  dsLP plasma IPA samples        4        \n",
       "3  dsLP plasma Internal controls  4        \n",
       "4  ssLP BAL    External controls 11        \n",
       "5  ssLP BAL    IPA samples       11        \n",
       "6  ssLP BAL    Other molds        1        \n",
       "7  ssLP plasma External controls  9        \n",
       "8  ssLP plasma IPA samples        6        \n",
       "9  ssLP plasma Internal controls  8        \n",
       "10 ssLP plasma Other molds        2        "
      ]
     },
     "metadata": {},
     "output_type": "display_data"
    }
   ],
   "source": [
    "samples_metadata %>% \n",
    "    filter(origin != \"controls\") %>% \n",
    "    filter(sample_type != \"ds-wcDNA BAL\") %>% \n",
    "    select(patient) %>% unlist() %>% \n",
    "    as.character() %>% unique() %>% length()\n",
    "\n",
    "samples_metadata %>% \n",
    "    filter(sample_type == \"ssLP plasma\") %>% filter(origin == \"IPA samples\")\n",
    "samples_metadata %>% \n",
    "    filter(origin != \"controls\") %>% \n",
    "    filter(sample_type != \"ds-wcDNA BAL\") %>%  \n",
    "    group_by(sample_type) %>% \n",
    "    summarise(nr_samples = n())\n",
    "\n",
    "samples_metadata %>% \n",
    "    filter(origin != \"controls\") %>% \n",
    "    filter(sample_type != \"ds-wcDNA BAL\") %>%  \n",
    "    group_by(origin) %>% \n",
    "    summarise(nr_samples = n())\n",
    "\n",
    "samples_metadata %>% \n",
    "    filter(origin != \"controls\") %>% \n",
    "    filter(sample_type != \"ds-wcDNA BAL\") %>%  \n",
    "    group_by(sample_type, origin) %>% \n",
    "    summarise(nr_samples = n())"
   ]
  },
  {
   "cell_type": "code",
   "execution_count": 4,
   "metadata": {},
   "outputs": [
    {
     "data": {
      "text/html": [
       "66"
      ],
      "text/latex": [
       "66"
      ],
      "text/markdown": [
       "66"
      ],
      "text/plain": [
       "[1] 66"
      ]
     },
     "metadata": {},
     "output_type": "display_data"
    }
   ],
   "source": [
    "host_nonMT$sample_id %>% unique() %>% length()"
   ]
  },
  {
   "cell_type": "code",
   "execution_count": 5,
   "metadata": {},
   "outputs": [
    {
     "data": {
      "text/html": [
       "<table class=\"dataframe\">\n",
       "<caption>A tibble: 1 × 1</caption>\n",
       "<thead>\n",
       "\t<tr><th scope=col>unique_count</th></tr>\n",
       "\t<tr><th scope=col>&lt;int&gt;</th></tr>\n",
       "</thead>\n",
       "<tbody>\n",
       "\t<tr><td>34</td></tr>\n",
       "</tbody>\n",
       "</table>\n"
      ],
      "text/latex": [
       "A tibble: 1 × 1\n",
       "\\begin{tabular}{l}\n",
       " unique\\_count\\\\\n",
       " <int>\\\\\n",
       "\\hline\n",
       "\t 34\\\\\n",
       "\\end{tabular}\n"
      ],
      "text/markdown": [
       "\n",
       "A tibble: 1 × 1\n",
       "\n",
       "| unique_count &lt;int&gt; |\n",
       "|---|\n",
       "| 34 |\n",
       "\n"
      ],
      "text/plain": [
       "  unique_count\n",
       "1 34          "
      ]
     },
     "metadata": {},
     "output_type": "display_data"
    },
    {
     "data": {
      "text/html": [
       "<table class=\"dataframe\">\n",
       "<caption>A grouped_df: 2 × 2</caption>\n",
       "<thead>\n",
       "\t<tr><th scope=col>sample</th><th scope=col>unique_count</th></tr>\n",
       "\t<tr><th scope=col>&lt;chr&gt;</th><th scope=col>&lt;int&gt;</th></tr>\n",
       "</thead>\n",
       "<tbody>\n",
       "\t<tr><td>BAL   </td><td>23</td></tr>\n",
       "\t<tr><td>plasma</td><td>16</td></tr>\n",
       "</tbody>\n",
       "</table>\n"
      ],
      "text/latex": [
       "A grouped\\_df: 2 × 2\n",
       "\\begin{tabular}{ll}\n",
       " sample & unique\\_count\\\\\n",
       " <chr> & <int>\\\\\n",
       "\\hline\n",
       "\t BAL    & 23\\\\\n",
       "\t plasma & 16\\\\\n",
       "\\end{tabular}\n"
      ],
      "text/markdown": [
       "\n",
       "A grouped_df: 2 × 2\n",
       "\n",
       "| sample &lt;chr&gt; | unique_count &lt;int&gt; |\n",
       "|---|---|\n",
       "| BAL    | 23 |\n",
       "| plasma | 16 |\n",
       "\n"
      ],
      "text/plain": [
       "  sample unique_count\n",
       "1 BAL    23          \n",
       "2 plasma 16          "
      ]
     },
     "metadata": {},
     "output_type": "display_data"
    },
    {
     "data": {
      "text/html": [
       "<table class=\"dataframe\">\n",
       "<caption>A grouped_df: 4 × 2</caption>\n",
       "<thead>\n",
       "\t<tr><th scope=col>origin</th><th scope=col>unique_count</th></tr>\n",
       "\t<tr><th scope=col>&lt;chr&gt;</th><th scope=col>&lt;int&gt;</th></tr>\n",
       "</thead>\n",
       "<tbody>\n",
       "\t<tr><td>External controls</td><td>9</td></tr>\n",
       "\t<tr><td>IPA samples      </td><td>5</td></tr>\n",
       "\t<tr><td>Internal controls</td><td>6</td></tr>\n",
       "\t<tr><td>Other molds      </td><td>2</td></tr>\n",
       "</tbody>\n",
       "</table>\n"
      ],
      "text/latex": [
       "A grouped\\_df: 4 × 2\n",
       "\\begin{tabular}{ll}\n",
       " origin & unique\\_count\\\\\n",
       " <chr> & <int>\\\\\n",
       "\\hline\n",
       "\t External controls & 9\\\\\n",
       "\t IPA samples       & 5\\\\\n",
       "\t Internal controls & 6\\\\\n",
       "\t Other molds       & 2\\\\\n",
       "\\end{tabular}\n"
      ],
      "text/markdown": [
       "\n",
       "A grouped_df: 4 × 2\n",
       "\n",
       "| origin &lt;chr&gt; | unique_count &lt;int&gt; |\n",
       "|---|---|\n",
       "| External controls | 9 |\n",
       "| IPA samples       | 5 |\n",
       "| Internal controls | 6 |\n",
       "| Other molds       | 2 |\n",
       "\n"
      ],
      "text/plain": [
       "  origin            unique_count\n",
       "1 External controls 9           \n",
       "2 IPA samples       5           \n",
       "3 Internal controls 6           \n",
       "4 Other molds       2           "
      ]
     },
     "metadata": {},
     "output_type": "display_data"
    },
    {
     "data": {
      "text/html": [
       "<table class=\"dataframe\">\n",
       "<caption>A grouped_df: 3 × 2</caption>\n",
       "<thead>\n",
       "\t<tr><th scope=col>origin</th><th scope=col>unique_count</th></tr>\n",
       "\t<tr><th scope=col>&lt;chr&gt;</th><th scope=col>&lt;int&gt;</th></tr>\n",
       "</thead>\n",
       "<tbody>\n",
       "\t<tr><td>External controls</td><td>11</td></tr>\n",
       "\t<tr><td>IPA samples      </td><td>11</td></tr>\n",
       "\t<tr><td>Other molds      </td><td> 1</td></tr>\n",
       "</tbody>\n",
       "</table>\n"
      ],
      "text/latex": [
       "A grouped\\_df: 3 × 2\n",
       "\\begin{tabular}{ll}\n",
       " origin & unique\\_count\\\\\n",
       " <chr> & <int>\\\\\n",
       "\\hline\n",
       "\t External controls & 11\\\\\n",
       "\t IPA samples       & 11\\\\\n",
       "\t Other molds       &  1\\\\\n",
       "\\end{tabular}\n"
      ],
      "text/markdown": [
       "\n",
       "A grouped_df: 3 × 2\n",
       "\n",
       "| origin &lt;chr&gt; | unique_count &lt;int&gt; |\n",
       "|---|---|\n",
       "| External controls | 11 |\n",
       "| IPA samples       | 11 |\n",
       "| Other molds       |  1 |\n",
       "\n"
      ],
      "text/plain": [
       "  origin            unique_count\n",
       "1 External controls 11          \n",
       "2 IPA samples       11          \n",
       "3 Other molds        1          "
      ]
     },
     "metadata": {},
     "output_type": "display_data"
    },
    {
     "data": {
      "text/html": [
       "<table class=\"dataframe\">\n",
       "<caption>A grouped_df: 4 × 3</caption>\n",
       "<thead>\n",
       "\t<tr><th scope=col>sample_type</th><th scope=col>type</th><th scope=col>avg_TLEN</th></tr>\n",
       "\t<tr><th scope=col>&lt;chr&gt;</th><th scope=col>&lt;chr&gt;</th><th scope=col>&lt;dbl&gt;</th></tr>\n",
       "</thead>\n",
       "<tbody>\n",
       "\t<tr><td>dsLP BAL   </td><td>dsLP</td><td>312</td></tr>\n",
       "\t<tr><td>dsLP plasma</td><td>dsLP</td><td>241</td></tr>\n",
       "\t<tr><td>ssLP BAL   </td><td>ssLP</td><td>182</td></tr>\n",
       "\t<tr><td>ssLP plasma</td><td>ssLP</td><td>167</td></tr>\n",
       "</tbody>\n",
       "</table>\n"
      ],
      "text/latex": [
       "A grouped\\_df: 4 × 3\n",
       "\\begin{tabular}{lll}\n",
       " sample\\_type & type & avg\\_TLEN\\\\\n",
       " <chr> & <chr> & <dbl>\\\\\n",
       "\\hline\n",
       "\t dsLP BAL    & dsLP & 312\\\\\n",
       "\t dsLP plasma & dsLP & 241\\\\\n",
       "\t ssLP BAL    & ssLP & 182\\\\\n",
       "\t ssLP plasma & ssLP & 167\\\\\n",
       "\\end{tabular}\n"
      ],
      "text/markdown": [
       "\n",
       "A grouped_df: 4 × 3\n",
       "\n",
       "| sample_type &lt;chr&gt; | type &lt;chr&gt; | avg_TLEN &lt;dbl&gt; |\n",
       "|---|---|---|\n",
       "| dsLP BAL    | dsLP | 312 |\n",
       "| dsLP plasma | dsLP | 241 |\n",
       "| ssLP BAL    | ssLP | 182 |\n",
       "| ssLP plasma | ssLP | 167 |\n",
       "\n"
      ],
      "text/plain": [
       "  sample_type type avg_TLEN\n",
       "1 dsLP BAL    dsLP 312     \n",
       "2 dsLP plasma dsLP 241     \n",
       "3 ssLP BAL    ssLP 182     \n",
       "4 ssLP plasma ssLP 167     "
      ]
     },
     "metadata": {},
     "output_type": "display_data"
    }
   ],
   "source": [
    "#SOME NUMBERS FOR THE MANUSCRIPT\n",
    "unique_sample_id_count <- host_nonMT %>% \n",
    "    mutate(sample_short = substr(sample_id, 1,3)) %>% \n",
    "    ungroup() %>% \n",
    "    summarise(unique_count = n_distinct(sample_short), .groups = \"keep\")\n",
    "unique_sample_id_count\n",
    "\n",
    "numbers_per_sample_type <- host_nonMT %>%\n",
    "    group_by(sample) %>%\n",
    "    summarise(unique_count = n_distinct(patient), .groups = \"keep\")\n",
    "numbers_per_sample_type\n",
    "\n",
    "host_nonMT %>% filter(sample == \"plasma\") %>%\n",
    "    group_by(origin) %>% \n",
    "    summarise(unique_count = n_distinct(patient), .groups = \"keep\")\n",
    "\n",
    "host_nonMT %>% filter(sample == \"BAL\") %>%\n",
    "    group_by(origin) %>% \n",
    "    summarise(unique_count = n_distinct(patient), .groups = \"keep\")\n",
    "\n",
    "average_fragment_length <- host_nonMT %>% \n",
    "    group_by(TLEN, sample_type, type) %>% summarise(mnsCount = mean(nsCount, na.rm = TRUE), .groups = \"keep\") %>% \n",
    "    group_by(sample_type, type) %>% \n",
    "    summarise(avg_TLEN = round(sum(TLEN * mnsCount, na.rm = TRUE) / sum(mnsCount, na.rm = TRUE), digits = 0), \n",
    "              .groups = \"keep\")\n",
    "average_fragment_length"
   ]
  },
  {
   "cell_type": "code",
   "execution_count": 6,
   "metadata": {},
   "outputs": [
    {
     "data": {
      "text/html": [
       "<table class=\"dataframe\">\n",
       "<caption>A grouped_df: 1 × 4</caption>\n",
       "<thead>\n",
       "\t<tr><th scope=col>TLEN</th><th scope=col>sample_type</th><th scope=col>type</th><th scope=col>mnsCount</th></tr>\n",
       "\t<tr><th scope=col>&lt;int&gt;</th><th scope=col>&lt;chr&gt;</th><th scope=col>&lt;chr&gt;</th><th scope=col>&lt;dbl&gt;</th></tr>\n",
       "</thead>\n",
       "<tbody>\n",
       "\t<tr><td>166</td><td>ssLP plasma</td><td>peak</td><td>2.333132</td></tr>\n",
       "</tbody>\n",
       "</table>\n"
      ],
      "text/latex": [
       "A grouped\\_df: 1 × 4\n",
       "\\begin{tabular}{llll}\n",
       " TLEN & sample\\_type & type & mnsCount\\\\\n",
       " <int> & <chr> & <chr> & <dbl>\\\\\n",
       "\\hline\n",
       "\t 166 & ssLP plasma & peak & 2.333132\\\\\n",
       "\\end{tabular}\n"
      ],
      "text/markdown": [
       "\n",
       "A grouped_df: 1 × 4\n",
       "\n",
       "| TLEN &lt;int&gt; | sample_type &lt;chr&gt; | type &lt;chr&gt; | mnsCount &lt;dbl&gt; |\n",
       "|---|---|---|---|\n",
       "| 166 | ssLP plasma | peak | 2.333132 |\n",
       "\n"
      ],
      "text/plain": [
       "  TLEN sample_type type mnsCount\n",
       "1 166  ssLP plasma peak 2.333132"
      ]
     },
     "metadata": {},
     "output_type": "display_data"
    },
    {
     "data": {
      "text/html": [
       "<table class=\"dataframe\">\n",
       "<caption>A grouped_df: 1 × 4</caption>\n",
       "<thead>\n",
       "\t<tr><th scope=col>TLEN</th><th scope=col>sample_type</th><th scope=col>type</th><th scope=col>mnsCount</th></tr>\n",
       "\t<tr><th scope=col>&lt;int&gt;</th><th scope=col>&lt;chr&gt;</th><th scope=col>&lt;chr&gt;</th><th scope=col>&lt;dbl&gt;</th></tr>\n",
       "</thead>\n",
       "<tbody>\n",
       "\t<tr><td>166</td><td>dsLP plasma</td><td>peak</td><td>1.756357</td></tr>\n",
       "</tbody>\n",
       "</table>\n"
      ],
      "text/latex": [
       "A grouped\\_df: 1 × 4\n",
       "\\begin{tabular}{llll}\n",
       " TLEN & sample\\_type & type & mnsCount\\\\\n",
       " <int> & <chr> & <chr> & <dbl>\\\\\n",
       "\\hline\n",
       "\t 166 & dsLP plasma & peak & 1.756357\\\\\n",
       "\\end{tabular}\n"
      ],
      "text/markdown": [
       "\n",
       "A grouped_df: 1 × 4\n",
       "\n",
       "| TLEN &lt;int&gt; | sample_type &lt;chr&gt; | type &lt;chr&gt; | mnsCount &lt;dbl&gt; |\n",
       "|---|---|---|---|\n",
       "| 166 | dsLP plasma | peak | 1.756357 |\n",
       "\n"
      ],
      "text/plain": [
       "  TLEN sample_type type mnsCount\n",
       "1 166  dsLP plasma peak 1.756357"
      ]
     },
     "metadata": {},
     "output_type": "display_data"
    },
    {
     "data": {
      "text/html": [
       "<table class=\"dataframe\">\n",
       "<caption>A grouped_df: 1 × 4</caption>\n",
       "<thead>\n",
       "\t<tr><th scope=col>TLEN</th><th scope=col>sample_type</th><th scope=col>type</th><th scope=col>mnsCount</th></tr>\n",
       "\t<tr><th scope=col>&lt;int&gt;</th><th scope=col>&lt;chr&gt;</th><th scope=col>&lt;chr&gt;</th><th scope=col>&lt;dbl&gt;</th></tr>\n",
       "</thead>\n",
       "<tbody>\n",
       "\t<tr><td>164</td><td>ssLP BAL</td><td>peak</td><td>0.8138056</td></tr>\n",
       "</tbody>\n",
       "</table>\n"
      ],
      "text/latex": [
       "A grouped\\_df: 1 × 4\n",
       "\\begin{tabular}{llll}\n",
       " TLEN & sample\\_type & type & mnsCount\\\\\n",
       " <int> & <chr> & <chr> & <dbl>\\\\\n",
       "\\hline\n",
       "\t 164 & ssLP BAL & peak & 0.8138056\\\\\n",
       "\\end{tabular}\n"
      ],
      "text/markdown": [
       "\n",
       "A grouped_df: 1 × 4\n",
       "\n",
       "| TLEN &lt;int&gt; | sample_type &lt;chr&gt; | type &lt;chr&gt; | mnsCount &lt;dbl&gt; |\n",
       "|---|---|---|---|\n",
       "| 164 | ssLP BAL | peak | 0.8138056 |\n",
       "\n"
      ],
      "text/plain": [
       "  TLEN sample_type type mnsCount \n",
       "1 164  ssLP BAL    peak 0.8138056"
      ]
     },
     "metadata": {},
     "output_type": "display_data"
    },
    {
     "data": {
      "text/html": [
       "<table class=\"dataframe\">\n",
       "<caption>A grouped_df: 1 × 4</caption>\n",
       "<thead>\n",
       "\t<tr><th scope=col>TLEN</th><th scope=col>sample_type</th><th scope=col>type</th><th scope=col>mnsCount</th></tr>\n",
       "\t<tr><th scope=col>&lt;int&gt;</th><th scope=col>&lt;chr&gt;</th><th scope=col>&lt;chr&gt;</th><th scope=col>&lt;dbl&gt;</th></tr>\n",
       "</thead>\n",
       "<tbody>\n",
       "\t<tr><td>168</td><td>dsLP BAL</td><td>peak</td><td>0.2600398</td></tr>\n",
       "</tbody>\n",
       "</table>\n"
      ],
      "text/latex": [
       "A grouped\\_df: 1 × 4\n",
       "\\begin{tabular}{llll}\n",
       " TLEN & sample\\_type & type & mnsCount\\\\\n",
       " <int> & <chr> & <chr> & <dbl>\\\\\n",
       "\\hline\n",
       "\t 168 & dsLP BAL & peak & 0.2600398\\\\\n",
       "\\end{tabular}\n"
      ],
      "text/markdown": [
       "\n",
       "A grouped_df: 1 × 4\n",
       "\n",
       "| TLEN &lt;int&gt; | sample_type &lt;chr&gt; | type &lt;chr&gt; | mnsCount &lt;dbl&gt; |\n",
       "|---|---|---|---|\n",
       "| 168 | dsLP BAL | peak | 0.2600398 |\n",
       "\n"
      ],
      "text/plain": [
       "  TLEN sample_type type mnsCount \n",
       "1 168  dsLP BAL    peak 0.2600398"
      ]
     },
     "metadata": {},
     "output_type": "display_data"
    },
    {
     "data": {
      "text/html": [
       "<table class=\"dataframe\">\n",
       "<caption>A tibble: 1 × 5</caption>\n",
       "<thead>\n",
       "\t<tr><th scope=col>sample_type</th><th scope=col>mean_index</th><th scope=col>index_non_na</th><th scope=col>index_na</th><th scope=col>total_index</th></tr>\n",
       "\t<tr><th scope=col>&lt;chr&gt;</th><th scope=col>&lt;dbl&gt;</th><th scope=col>&lt;int&gt;</th><th scope=col>&lt;int&gt;</th><th scope=col>&lt;int&gt;</th></tr>\n",
       "</thead>\n",
       "<tbody>\n",
       "\t<tr><td>ssLP plasma</td><td>1.53</td><td>10</td><td>1</td><td>11</td></tr>\n",
       "</tbody>\n",
       "</table>\n"
      ],
      "text/latex": [
       "A tibble: 1 × 5\n",
       "\\begin{tabular}{lllll}\n",
       " sample\\_type & mean\\_index & index\\_non\\_na & index\\_na & total\\_index\\\\\n",
       " <chr> & <dbl> & <int> & <int> & <int>\\\\\n",
       "\\hline\n",
       "\t ssLP plasma & 1.53 & 10 & 1 & 11\\\\\n",
       "\\end{tabular}\n"
      ],
      "text/markdown": [
       "\n",
       "A tibble: 1 × 5\n",
       "\n",
       "| sample_type &lt;chr&gt; | mean_index &lt;dbl&gt; | index_non_na &lt;int&gt; | index_na &lt;int&gt; | total_index &lt;int&gt; |\n",
       "|---|---|---|---|---|\n",
       "| ssLP plasma | 1.53 | 10 | 1 | 11 |\n",
       "\n"
      ],
      "text/plain": [
       "  sample_type mean_index index_non_na index_na total_index\n",
       "1 ssLP plasma 1.53       10           1        11         "
      ]
     },
     "metadata": {},
     "output_type": "display_data"
    },
    {
     "data": {
      "text/html": [
       "<table class=\"dataframe\">\n",
       "<caption>A tibble: 1 × 5</caption>\n",
       "<thead>\n",
       "\t<tr><th scope=col>sample_type</th><th scope=col>mean_index</th><th scope=col>index_non_na</th><th scope=col>index_na</th><th scope=col>total_index</th></tr>\n",
       "\t<tr><th scope=col>&lt;chr&gt;</th><th scope=col>&lt;dbl&gt;</th><th scope=col>&lt;int&gt;</th><th scope=col>&lt;int&gt;</th><th scope=col>&lt;int&gt;</th></tr>\n",
       "</thead>\n",
       "<tbody>\n",
       "\t<tr><td>dsLP plasma</td><td>1.52</td><td>4</td><td>3</td><td>7</td></tr>\n",
       "</tbody>\n",
       "</table>\n"
      ],
      "text/latex": [
       "A tibble: 1 × 5\n",
       "\\begin{tabular}{lllll}\n",
       " sample\\_type & mean\\_index & index\\_non\\_na & index\\_na & total\\_index\\\\\n",
       " <chr> & <dbl> & <int> & <int> & <int>\\\\\n",
       "\\hline\n",
       "\t dsLP plasma & 1.52 & 4 & 3 & 7\\\\\n",
       "\\end{tabular}\n"
      ],
      "text/markdown": [
       "\n",
       "A tibble: 1 × 5\n",
       "\n",
       "| sample_type &lt;chr&gt; | mean_index &lt;dbl&gt; | index_non_na &lt;int&gt; | index_na &lt;int&gt; | total_index &lt;int&gt; |\n",
       "|---|---|---|---|---|\n",
       "| dsLP plasma | 1.52 | 4 | 3 | 7 |\n",
       "\n"
      ],
      "text/plain": [
       "  sample_type mean_index index_non_na index_na total_index\n",
       "1 dsLP plasma 1.52       4            3        7          "
      ]
     },
     "metadata": {},
     "output_type": "display_data"
    },
    {
     "data": {
      "text/html": [
       "<table class=\"dataframe\">\n",
       "<caption>A tibble: 1 × 5</caption>\n",
       "<thead>\n",
       "\t<tr><th scope=col>sample_type</th><th scope=col>mean_index</th><th scope=col>index_non_na</th><th scope=col>index_na</th><th scope=col>total_index</th></tr>\n",
       "\t<tr><th scope=col>&lt;chr&gt;</th><th scope=col>&lt;dbl&gt;</th><th scope=col>&lt;int&gt;</th><th scope=col>&lt;int&gt;</th><th scope=col>&lt;int&gt;</th></tr>\n",
       "</thead>\n",
       "<tbody>\n",
       "\t<tr><td>ssLP BAL</td><td>1.7</td><td>10</td><td>0</td><td>10</td></tr>\n",
       "</tbody>\n",
       "</table>\n"
      ],
      "text/latex": [
       "A tibble: 1 × 5\n",
       "\\begin{tabular}{lllll}\n",
       " sample\\_type & mean\\_index & index\\_non\\_na & index\\_na & total\\_index\\\\\n",
       " <chr> & <dbl> & <int> & <int> & <int>\\\\\n",
       "\\hline\n",
       "\t ssLP BAL & 1.7 & 10 & 0 & 10\\\\\n",
       "\\end{tabular}\n"
      ],
      "text/markdown": [
       "\n",
       "A tibble: 1 × 5\n",
       "\n",
       "| sample_type &lt;chr&gt; | mean_index &lt;dbl&gt; | index_non_na &lt;int&gt; | index_na &lt;int&gt; | total_index &lt;int&gt; |\n",
       "|---|---|---|---|---|\n",
       "| ssLP BAL | 1.7 | 10 | 0 | 10 |\n",
       "\n"
      ],
      "text/plain": [
       "  sample_type mean_index index_non_na index_na total_index\n",
       "1 ssLP BAL    1.7        10           0        10         "
      ]
     },
     "metadata": {},
     "output_type": "display_data"
    },
    {
     "data": {
      "text/html": [
       "<table class=\"dataframe\">\n",
       "<caption>A tibble: 1 × 5</caption>\n",
       "<thead>\n",
       "\t<tr><th scope=col>sample_type</th><th scope=col>mean_index</th><th scope=col>index_non_na</th><th scope=col>index_na</th><th scope=col>total_index</th></tr>\n",
       "\t<tr><th scope=col>&lt;chr&gt;</th><th scope=col>&lt;dbl&gt;</th><th scope=col>&lt;int&gt;</th><th scope=col>&lt;int&gt;</th><th scope=col>&lt;int&gt;</th></tr>\n",
       "</thead>\n",
       "<tbody>\n",
       "\t<tr><td>dsLP BAL</td><td>1.54</td><td>9</td><td>1</td><td>10</td></tr>\n",
       "</tbody>\n",
       "</table>\n"
      ],
      "text/latex": [
       "A tibble: 1 × 5\n",
       "\\begin{tabular}{lllll}\n",
       " sample\\_type & mean\\_index & index\\_non\\_na & index\\_na & total\\_index\\\\\n",
       " <chr> & <dbl> & <int> & <int> & <int>\\\\\n",
       "\\hline\n",
       "\t dsLP BAL & 1.54 & 9 & 1 & 10\\\\\n",
       "\\end{tabular}\n"
      ],
      "text/markdown": [
       "\n",
       "A tibble: 1 × 5\n",
       "\n",
       "| sample_type &lt;chr&gt; | mean_index &lt;dbl&gt; | index_non_na &lt;int&gt; | index_na &lt;int&gt; | total_index &lt;int&gt; |\n",
       "|---|---|---|---|---|\n",
       "| dsLP BAL | 1.54 | 9 | 1 | 10 |\n",
       "\n"
      ],
      "text/plain": [
       "  sample_type mean_index index_non_na index_na total_index\n",
       "1 dsLP BAL    1.54       9            1        10         "
      ]
     },
     "metadata": {},
     "output_type": "display_data"
    }
   ],
   "source": [
    "get_index_for_valley(host_nonMT_summarized, sample_type_tmp = \"ssLP plasma\", tlen_min = 170)[[1]] %>% \n",
    "    filter(TLEN >160) %>% filter(type == \"peak\")\n",
    "get_index_for_valley(host_nonMT_summarized, sample_type_tmp = \"dsLP plasma\", tlen_min = 170)[[1]] %>% \n",
    "    filter(TLEN >160) %>% filter(type == \"peak\")\n",
    "get_index_for_valley(host_nonMT_summarized, sample_type_tmp = \"ssLP BAL\", tlen_min = 170)[[1]] %>% \n",
    "    filter(TLEN >160) %>% filter(type == \"peak\")\n",
    "get_index_for_valley(host_nonMT_summarized, sample_type_tmp = \"dsLP BAL\", tlen_min = 170)[[1]] %>% \n",
    "    filter(TLEN >160) %>% filter(type == \"peak\")\n",
    "\n",
    "#get_index_for_valley(host_nonMT_summarized, sample_type_tmp = \"dsLP plasma\")[[1]]\n",
    "#get_index_for_valley(host_nonMT_summarized, sample_type_tmp = \"ssLP BAL\")[[1]]\n",
    "#get_index_for_valley(host_nonMT_summarized, sample_type_tmp = \"dsLP BAL\")[[1]]\n",
    "\n",
    "get_index_for_valley(host_nonMT_summarized, sample_type_tmp = \"ssLP plasma\")[[2]]\n",
    "get_index_for_valley(host_nonMT_summarized, sample_type_tmp = \"dsLP plasma\")[[2]]\n",
    "get_index_for_valley(host_nonMT_summarized, sample_type_tmp = \"ssLP BAL\")[[2]]\n",
    "get_index_for_valley(host_nonMT_summarized, sample_type_tmp = \"dsLP BAL\")[[2]]"
   ]
  },
  {
   "cell_type": "code",
   "execution_count": 7,
   "metadata": {},
   "outputs": [
    {
     "data": {
      "text/html": [
       "<table class=\"dataframe\">\n",
       "<caption>A tibble: 5 × 2</caption>\n",
       "<thead>\n",
       "\t<tr><th scope=col>sample_type</th><th scope=col>mean_perc_merged</th></tr>\n",
       "\t<tr><th scope=col>&lt;chr&gt;</th><th scope=col>&lt;dbl&gt;</th></tr>\n",
       "</thead>\n",
       "<tbody>\n",
       "\t<tr><td>dsLP BAL    </td><td>0.3126241</td></tr>\n",
       "\t<tr><td>dsLP plasma </td><td>0.5873901</td></tr>\n",
       "\t<tr><td>ssLP BAL    </td><td>0.7933704</td></tr>\n",
       "\t<tr><td>ssLP control</td><td>0.2592045</td></tr>\n",
       "\t<tr><td>ssLP plasma </td><td>0.8795137</td></tr>\n",
       "</tbody>\n",
       "</table>\n"
      ],
      "text/latex": [
       "A tibble: 5 × 2\n",
       "\\begin{tabular}{ll}\n",
       " sample\\_type & mean\\_perc\\_merged\\\\\n",
       " <chr> & <dbl>\\\\\n",
       "\\hline\n",
       "\t dsLP BAL     & 0.3126241\\\\\n",
       "\t dsLP plasma  & 0.5873901\\\\\n",
       "\t ssLP BAL     & 0.7933704\\\\\n",
       "\t ssLP control & 0.2592045\\\\\n",
       "\t ssLP plasma  & 0.8795137\\\\\n",
       "\\end{tabular}\n"
      ],
      "text/markdown": [
       "\n",
       "A tibble: 5 × 2\n",
       "\n",
       "| sample_type &lt;chr&gt; | mean_perc_merged &lt;dbl&gt; |\n",
       "|---|---|\n",
       "| dsLP BAL     | 0.3126241 |\n",
       "| dsLP plasma  | 0.5873901 |\n",
       "| ssLP BAL     | 0.7933704 |\n",
       "| ssLP control | 0.2592045 |\n",
       "| ssLP plasma  | 0.8795137 |\n",
       "\n"
      ],
      "text/plain": [
       "  sample_type  mean_perc_merged\n",
       "1 dsLP BAL     0.3126241       \n",
       "2 dsLP plasma  0.5873901       \n",
       "3 ssLP BAL     0.7933704       \n",
       "4 ssLP control 0.2592045       \n",
       "5 ssLP plasma  0.8795137       "
      ]
     },
     "metadata": {},
     "output_type": "display_data"
    }
   ],
   "source": [
    "rbind(plasma_sizeSelection_meta, BAL_sizeSelection_meta) %>%\n",
    "    filter(origin != \"control\", \n",
    "           taxName == \"Aspergillus fumigatus\") %>%\n",
    "    select(sample_id, new_Filter, QC_number_reads, sample_type, origin, type) %>% \n",
    "    filter(new_Filter %in% c(\"noFilter\", \"35-1000\")) %>%     \n",
    "    pivot_wider(names_from = new_Filter, values_from = QC_number_reads, names_prefix = \"QC#_\") %>% \n",
    "    mutate(perc_merged = `QC#_35-1000`/`QC#_noFilter`) %>% \n",
    "    group_by(sample_type) %>% \n",
    "    summarize(mean_perc_merged = mean(perc_merged))"
   ]
  },
  {
   "cell_type": "code",
   "execution_count": null,
   "metadata": {},
   "outputs": [],
   "source": []
  }
 ],
 "metadata": {
  "kernelspec": {
   "display_name": "R [conda env:r4.2.0]",
   "language": "R",
   "name": "conda-env-r4.2.0-r"
  },
  "language_info": {
   "codemirror_mode": "r",
   "file_extension": ".r",
   "mimetype": "text/x-r-source",
   "name": "R",
   "pygments_lexer": "r",
   "version": "4.2.3"
  }
 },
 "nbformat": 4,
 "nbformat_minor": 4
}
