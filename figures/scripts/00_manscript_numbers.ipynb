{
 "cells": [
  {
   "cell_type": "code",
   "execution_count": null,
   "metadata": {},
   "outputs": [],
   "source": [
    "f_func <- \"./functions.ipynb\"\n",
    "eval(parse(text = system2('jupyter', c('nbconvert', f_func, '--to=script', '--stdout'), stdout = TRUE)))\n",
    "\n",
    "f_data_loading <- \"./data_loading.ipynb\"\n",
    "eval(parse(text = system2('jupyter', c('nbconvert', f_data_loading, '--to=script', '--stdout'), stdout = TRUE)))"
   ]
  },
  {
   "cell_type": "code",
   "execution_count": null,
   "metadata": {},
   "outputs": [],
   "source": [
    "directory_path <- \"../../output/cfspi/samples/results/stats/\"\n",
    "files <- list.files(directory_path, full.names = TRUE)\n",
    "filtered_files <- files[grep(\"_R1_01_\", files)]\n",
    "\n",
    "results <- data.frame(sample_id = character(), \n",
    "                      nr_QC_reads = numeric(), \n",
    "                      stringsAsFactors = FALSE)\n",
    "\n",
    "for (file in filtered_files) {\n",
    "    base_name <- sub(\"^(.*)_R1_01_.*$\", \"\\\\1\", basename(file))\n",
    "    value <- readLines(file, n = 1)\n",
    "\n",
    "    results <- results %>% add_row(sample_id = base_name, \n",
    "                                   nr_QC_reads = as.numeric(value))\n",
    "}\n",
    "\n",
    "suppl_table <- results %>% \n",
    "    filter(sample_id %in% samples_metadata$sample_id) %>% \n",
    "    filter(sample_id %nin% samples_metadata$sample_id[\n",
    "        samples_metadata$origin == \"controls\"]) %>% \n",
    "    filter(sample_id %nin% samples_metadata$sample_id[\n",
    "        samples_metadata$type == \"ds-wcDNA\"])\n",
    "\n",
    "write.csv(suppl_table, \"../../output/PP_figures/suppl_table.csv\", \n",
    "          row.names = FALSE)"
   ]
  },
  {
   "cell_type": "code",
   "execution_count": null,
   "metadata": {},
   "outputs": [],
   "source": [
    "samples_metadata %>% \n",
    "    filter(origin != \"controls\") %>% \n",
    "    filter(sample_type != \"ds-wcDNA BAL\") %>% \n",
    "    select(patient) %>% unlist() %>% \n",
    "    as.character() %>% unique() %>% length()\n",
    "\n",
    "samples_metadata %>% \n",
    "    filter(sample_type == \"ssLP plasma\") %>% filter(origin == \"IPA samples\")\n",
    "\n",
    "samples_metadata %>% \n",
    "    filter(origin != \"controls\") %>% \n",
    "    filter(sample_type != \"ds-wcDNA BAL\") %>%  \n",
    "    group_by(sample_type) %>% \n",
    "    summarise(nr_samples = n())\n",
    "\n",
    "samples_metadata %>% \n",
    "    filter(origin != \"controls\") %>% \n",
    "    filter(sample_type != \"ds-wcDNA BAL\") %>%  \n",
    "    group_by(origin) %>% \n",
    "    summarise(nr_samples = n())\n",
    "\n",
    "samples_metadata %>% \n",
    "    filter(origin != \"controls\") %>% \n",
    "    filter(sample_type != \"ds-wcDNA BAL\") %>%  \n",
    "    group_by(sample_type, origin) %>% \n",
    "    summarise(nr_samples = n())"
   ]
  },
  {
   "cell_type": "code",
   "execution_count": null,
   "metadata": {},
   "outputs": [],
   "source": [
    "host_nonMT$sample_id %>% unique() %>% length()"
   ]
  },
  {
   "cell_type": "code",
   "execution_count": null,
   "metadata": {},
   "outputs": [],
   "source": [
    "#SOME NUMBERS FOR THE MANUSCRIPT\n",
    "unique_sample_id_count <- host_nonMT %>% \n",
    "    mutate(sample_short = substr(sample_id, 1,3)) %>% \n",
    "    ungroup() %>% \n",
    "    summarise(unique_count = n_distinct(sample_short), .groups = \"keep\")\n",
    "unique_sample_id_count\n",
    "\n",
    "numbers_per_sample_type <- host_nonMT %>%\n",
    "    group_by(sample) %>%\n",
    "    summarise(unique_count = n_distinct(patient), .groups = \"keep\")\n",
    "numbers_per_sample_type\n",
    "\n",
    "host_nonMT %>% filter(sample == \"plasma\") %>%\n",
    "    group_by(origin) %>% \n",
    "    summarise(unique_count = n_distinct(patient), .groups = \"keep\")\n",
    "\n",
    "host_nonMT %>% filter(sample == \"BAL\") %>%\n",
    "    group_by(origin) %>% \n",
    "    summarise(unique_count = n_distinct(patient), .groups = \"keep\")\n",
    "\n",
    "average_fragment_length <- host_nonMT %>% \n",
    "    group_by(TLEN, sample_type, type) %>% summarise(mnsCount = mean(nsCount, na.rm = TRUE), .groups = \"keep\") %>% \n",
    "    group_by(sample_type, type) %>% \n",
    "    summarise(avg_TLEN = round(sum(TLEN * mnsCount, na.rm = TRUE) / sum(mnsCount, na.rm = TRUE), digits = 0), \n",
    "              .groups = \"keep\")\n",
    "average_fragment_length"
   ]
  },
  {
   "cell_type": "code",
   "execution_count": null,
   "metadata": {},
   "outputs": [],
   "source": [
    "get_index_for_valley(host_nonMT_summarized, sample_type_tmp = \"ssLP plasma\", tlen_min = 170)[[1]] %>% \n",
    "    filter(TLEN >160) %>% filter(type == \"peak\")\n",
    "get_index_for_valley(host_nonMT_summarized, sample_type_tmp = \"dsLP plasma\", tlen_min = 170)[[1]] %>% \n",
    "    filter(TLEN >160) %>% filter(type == \"peak\")\n",
    "get_index_for_valley(host_nonMT_summarized, sample_type_tmp = \"ssLP BAL\", tlen_min = 170)[[1]] %>% \n",
    "    filter(TLEN >160) %>% filter(type == \"peak\")\n",
    "get_index_for_valley(host_nonMT_summarized, sample_type_tmp = \"dsLP BAL\", tlen_min = 170)[[1]] %>% \n",
    "    filter(TLEN >160) %>% filter(type == \"peak\")\n",
    "\n",
    "get_index_for_valley(host_nonMT_summarized, sample_type_tmp = \"ssLP plasma\")[[2]]\n",
    "get_index_for_valley(host_nonMT_summarized, sample_type_tmp = \"dsLP plasma\")[[2]]\n",
    "get_index_for_valley(host_nonMT_summarized, sample_type_tmp = \"ssLP BAL\")[[2]]\n",
    "get_index_for_valley(host_nonMT_summarized, sample_type_tmp = \"dsLP BAL\")[[2]]"
   ]
  },
  {
   "cell_type": "code",
   "execution_count": null,
   "metadata": {},
   "outputs": [],
   "source": [
    "rbind(plasma_sizeSelection_meta, BAL_sizeSelection_meta) %>%\n",
    "    filter(origin != \"control\", \n",
    "           taxName == \"Aspergillus fumigatus\") %>%\n",
    "    select(sample_id, new_Filter, QC_number_reads, sample_type, origin, type) %>% \n",
    "    filter(new_Filter %in% c(\"noFilter\", \"35-1000\")) %>%     \n",
    "    pivot_wider(names_from = new_Filter, values_from = QC_number_reads, names_prefix = \"QC#_\") %>% \n",
    "    mutate(perc_merged = `QC#_35-1000`/`QC#_noFilter`) %>% \n",
    "    group_by(sample_type) %>% \n",
    "    summarize(mean_perc_merged = mean(perc_merged))"
   ]
  },
  {
   "cell_type": "code",
   "execution_count": null,
   "metadata": {},
   "outputs": [],
   "source": []
  }
 ],
 "metadata": {
  "kernelspec": {
   "display_name": "R [conda env:r4.2.0]",
   "language": "R",
   "name": "conda-env-r4.2.0-r"
  },
  "language_info": {
   "codemirror_mode": "r",
   "file_extension": ".r",
   "mimetype": "text/x-r-source",
   "name": "R",
   "pygments_lexer": "r",
   "version": "4.2.3"
  }
 },
 "nbformat": 4,
 "nbformat_minor": 4
}
