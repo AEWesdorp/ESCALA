{
 "cells": [
  {
   "cell_type": "code",
   "execution_count": null,
   "metadata": {},
   "outputs": [],
   "source": [
    "f_func <- \"./functions.ipynb\"\n",
    "eval(parse(text = system2('jupyter', c('nbconvert', f_func, '--to=script', '--stdout'), stdout = TRUE)))"
   ]
  },
  {
   "cell_type": "code",
   "execution_count": null,
   "metadata": {},
   "outputs": [],
   "source": [
    "IN_DIR=\"../../output/nucleotideFreqGenomes/\"\n",
    "\n",
    "func_cleanup_table <- function(data, nr_nucl){\n",
    "    dat_clean <- data %>% as.data.frame()\n",
    "    colnames(dat_clean) <- c(\"motif\", \"freq\")   \n",
    "    dat_clean <- dat_clean %>%\n",
    "        filter(nchar(motif) == nr_nucl,                      \n",
    "               sapply(strsplit(as.character(motif), \"\"),     \n",
    "                      function(x) all(x %in% c(\"A\", \"C\", \"T\", \"G\"))) \n",
    "        )\n",
    "    return(dat_clean)\n",
    "}"
   ]
  },
  {
   "cell_type": "code",
   "execution_count": null,
   "metadata": {},
   "outputs": [],
   "source": [
    "Afum_dinuclFreq_MT <- read.csv(file = paste0(IN_DIR, \"FungiDB-46_AfumigatusAf293_Genome_cleaned_final_dinuclFreq_MT.txt\"), \n",
    "            header = FALSE, sep = \"\\t\") %>% func_cleanup_table(., nr_nucl = 2) %>% mutate(source = \"Aspergillus\")\n",
    "\n",
    "Afum_dinuclFreq_nonMT <- read.csv(file = paste0(IN_DIR, \"FungiDB-46_AfumigatusAf293_Genome_cleaned_final_dinuclFreq_nonMT.txt\"), \n",
    "            header = FALSE, sep = \"\\t\") %>% func_cleanup_table(., nr_nucl = 2) %>% mutate(source = \"Aspergillus\")"
   ]
  },
  {
   "cell_type": "code",
   "execution_count": null,
   "metadata": {},
   "outputs": [],
   "source": [
    "Afum_dinucl_df <- rbind(Afum_dinuclFreq_MT,Afum_dinuclFreq_nonMT) %>% \n",
    "    ungroup() %>% \n",
    "    group_by(motif) %>%\n",
    "    summarize(freq = sum(freq)) %>% \n",
    "    ungroup() %>% \n",
    "    mutate(norm_freq = freq/sum(freq)*100) %>% \n",
    "    mutate(source = \"Aspergillus fumigatus\")\n",
    "\n",
    "Afum_dinucl_df %>% \n",
    "    filter(motif == \"CG\")"
   ]
  },
  {
   "cell_type": "code",
   "execution_count": null,
   "metadata": {},
   "outputs": [],
   "source": [
    "chromosomes = c(1:22, \"X\", \"Y\", \"MT\")\n",
    "chrom_dinucl_counts = dinucleotideFrequency(getSeq(Hsapiens, chromosomes))\n",
    "host_sums_dinucl = colSums(chrom_dinucl_counts)\n",
    "\n",
    "host_dinucl_df <- data.frame(motif = names(host_sums_dinucl), freq = as.numeric(host_sums_dinucl)) %>% \n",
    "    mutate(source = \"host\") %>% \n",
    "    mutate(norm_freq = freq/sum(freq)*100)\n",
    "\n",
    "host_dinucl_df %>% head()"
   ]
  },
  {
   "cell_type": "code",
   "execution_count": null,
   "metadata": {},
   "outputs": [],
   "source": [
    "rbind(Afum_dinucl_df, host_dinucl_df) %>% \n",
    "    ggplot(aes(y = motif, x = norm_freq, fill = source)) +\n",
    "        geom_bar(stat = \"identity\", position = \"dodge\") +  \n",
    "        labs(title = \"Dinucleotide Counts by Origin\",\n",
    "            y = \"Dinucleotide\",\n",
    "            x = \"Percentage\") +\n",
    "          scale_fill_manual(values = c(\"Aspergillus\" = \"#A9A9A9\", \"host\" = \"#D3D3D3\")) +\n",
    "          theme_minimal() +\n",
    "          theme(text = element_text(size = 12)) + \n",
    "            labs(fill = \"\")"
   ]
  },
  {
   "cell_type": "code",
   "execution_count": null,
   "metadata": {},
   "outputs": [],
   "source": [
    "rbind(Afum_dinucl_df, host_dinucl_df) %>% \n",
    "    filter(motif == \"CG\")"
   ]
  },
  {
   "cell_type": "code",
   "execution_count": null,
   "metadata": {},
   "outputs": [],
   "source": []
  }
 ],
 "metadata": {
  "kernelspec": {
   "display_name": "R [conda env:r4.2.0]",
   "language": "R",
   "name": "conda-env-r4.2.0-r"
  },
  "language_info": {
   "codemirror_mode": "r",
   "file_extension": ".r",
   "mimetype": "text/x-r-source",
   "name": "R",
   "pygments_lexer": "r",
   "version": "4.2.3"
  }
 },
 "nbformat": 4,
 "nbformat_minor": 4
}
