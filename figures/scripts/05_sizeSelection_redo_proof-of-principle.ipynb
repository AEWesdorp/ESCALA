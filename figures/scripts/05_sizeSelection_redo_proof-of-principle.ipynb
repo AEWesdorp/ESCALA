{
 "cells": [
  {
   "cell_type": "code",
   "execution_count": null,
   "metadata": {},
   "outputs": [],
   "source": [
    "f_func <- \"./functions.ipynb\"\n",
    "eval(parse(text = system2('jupyter', c('nbconvert', f_func, '--to=script', '--stdout'), stdout = TRUE)))\n",
    "\n",
    "f_data_loading <- \"./data_loading.ipynb\"\n",
    "eval(parse(text = system2('jupyter', c('nbconvert', f_data_loading, '--to=script', '--stdout'), stdout = TRUE)))"
   ]
  },
  {
   "cell_type": "code",
   "execution_count": null,
   "metadata": {},
   "outputs": [],
   "source": [
    "combined_data <- rbind(\n",
    "    plasma_sizeSelection_meta %>% filter(new_Filter == \"35-100\"),\n",
    "    BAL_sizeSelection_meta %>% filter(new_Filter == \"35-100\")\n",
    ") \n",
    "\n",
    "sel_combined_data <- combined_data %>% \n",
    "    filter(taxName == \"Aspergillus fumigatus\")\n",
    "\n",
    "Asp_species_count <- sel_combined_data %>% \n",
    "    select(c(\"taxName\", \"taxID_number_reads\", \"database\", \"CT\",\"sample_id\")) %>% \n",
    "    rename(\"db\" = database) %>% \n",
    "    rename(\"threshold\" = CT) %>% \n",
    "    mutate(threshold = gsub(threshold, pattern = \"conf\", replacement = \"\")) %>% \n",
    "    rename(\"count\" = taxID_number_reads, ) %>% \n",
    "    rename(\"sample\" = sample_id) \n",
    "\n",
    "total_read_count <- data.frame(\"EPRSc2\" = sel_combined_data$QC_number_reads, row.names = sel_combined_data$sample_id) %>% t()"
   ]
  },
  {
   "cell_type": "code",
   "execution_count": null,
   "metadata": {},
   "outputs": [],
   "source": [
    "Asp_species_count %>% head()\n",
    "total_read_count %>% head()"
   ]
  },
  {
   "cell_type": "code",
   "execution_count": null,
   "metadata": {},
   "outputs": [],
   "source": [
    "Bctrls <- c('H01Bctrl','H05Bctrl','H06Bctrl','H07Bctrl','H08Bctrl','H10Bctrl','H11Bctrl','H22Bctrl','H24Bctrl')\n",
    "Pctrls <- c('H31Pctrl','H32Pctrl','H33Pctrl','H34Pctrl','H35Pctrl','H36Pctrl','H37Pctrl','H38Pctrl','H39Pctrl')\n",
    "\n",
    "ctrl_list <- list(Bctrls, Pctrls)\n",
    "names(ctrl_list) <- c(\"Bctrls\", \"Pctrls\")"
   ]
  },
  {
   "cell_type": "code",
   "execution_count": null,
   "metadata": {},
   "outputs": [],
   "source": [
    "dbs_sel_min <- c('EPRSc2')\n",
    "lst_fisher_species <- list()\n",
    "for (fav_db in dbs_sel_min){\n",
    "    if (fav_db == \"EPRSc2\"){print(fav_db); tmp_species_threshold = \"conf0.4\"}\n",
    "    \n",
    "    df_fisher_species <- Asp_species_count %>% \n",
    "        filter(db == fav_db) %>% \n",
    "        filter(threshold == gsub(tmp_species_threshold, pattern = \"conf\", replacement = \"\")) %>% \n",
    "        filter(grepl(sample, pattern = \"asp$\") | \n",
    "               grepl(sample, pattern = \"ctrl$\") | \n",
    "               grepl(sample, pattern = \"ctrl2$\") | \n",
    "               grepl(sample, pattern = \"ctrl3$\") | \n",
    "               grepl(sample, pattern = \"VAL$\")\n",
    "              ) %>% \n",
    "        mutate(control_type = ifelse(grepl(sample, pattern = \"Bctrl\") | grepl(sample, pattern = \"Basp\"), \n",
    "                                     yes = \"Bctrls\", no = \n",
    "                              ifelse(grepl(sample, pattern = \"Pctrl\") | grepl(sample, pattern = \"Pasp\"), \n",
    "                                     yes = \"Pctrls\", no = NA))) %>% \n",
    "        mutate(origin = ifelse(control_type == \"Bctrls\", yes = \"BAL ss-cfDNA\", no = \n",
    "                        ifelse(control_type == \"Pctrls\", yes = \"Plasma ss-cfDNA\", no = NA))) %>% \n",
    "        mutate(fisher.t.ext = NA) %>%  mutate(fisher.t.int = NA) \n",
    "\n",
    "    for (i in 1:nrow(df_fisher_species)){\n",
    "        db_tmp <- df_fisher_species$db[i]\n",
    "        ctrl <- df_fisher_species$control_type[i]\n",
    "        tn <- df_fisher_species$taxName[i]\n",
    "        smpl <- df_fisher_species$sample[i]\n",
    "\n",
    "        tmp_ext <- c()\n",
    "        for (ext_c in ctrl_list[[ctrl]]){\n",
    "            if(ext_c == c(df_fisher_species$sample[i])){next}\n",
    "            ext_ctrl_species_count <- Asp_species_count %>% \n",
    "                filter(sample == ext_c) %>% \n",
    "                filter(db == db_tmp) %>% \n",
    "                filter(taxName == tn) %>% \n",
    "                filter(threshold == gsub(tmp_species_threshold, pattern = \"conf\", replacement = \"\")) %>% \n",
    "                pull(\"count\")\n",
    "\n",
    "            ft_ext <- as.numeric(fisher.test(\n",
    "                            rbind(c(df_fisher_species$count[i],\n",
    "                                    (total_read_count[db_tmp, smpl]-df_fisher_species$count[i])),\n",
    "                                  c(ext_ctrl_species_count, \n",
    "                                    (total_read_count[db_tmp, ext_c])-ext_ctrl_species_count)), \n",
    "                            alternative=\"greater\")$p.value)\n",
    "            tmp_ext <- c(tmp_ext, ft_ext)\n",
    "            rm(ft_ext)\n",
    "        }\n",
    "        df_fisher_species$fisher.t.ext[i] <- mean(tmp_ext, na.rm = TRUE)\n",
    "\n",
    "        if(ctrl == \"Pctrls\" & df_fisher_species$sample[i] %nin% c('A05Pctrl2','A05Pctrl3')){\n",
    "            int_c <- gsub(df_fisher_species$sample[i], pattern = \"asp\", replacement = \"ctrl\")\n",
    "            if(int_c %in% Asp_species_count$sample & int_c %in% colnames(total_read_count)){\n",
    "                int_ctrl_species_count <- Asp_species_count %>% \n",
    "                    filter(sample == ext_c) %>% \n",
    "                    filter(db == db_tmp) %>% \n",
    "                    filter(taxName == tn) %>% \n",
    "                    filter(threshold == gsub(tmp_species_threshold, pattern = \"conf\", replacement = \"\")) %>% \n",
    "                    pull(\"count\")\n",
    "\n",
    "                df_fisher_species$fisher.t.int[i] <- as.numeric(fisher.test(\n",
    "                                rbind(c(df_fisher_species$count[i],\n",
    "                                        (total_read_count[db_tmp, smpl]-df_fisher_species$count[i])),\n",
    "                                      c(int_ctrl_species_count, \n",
    "                                        (total_read_count[db_tmp, int_c])-int_ctrl_species_count)), \n",
    "                                alternative=\"greater\")$p.value)\n",
    "            }\n",
    "        }\n",
    "    }\n",
    "    lst_fisher_species[[fav_db]] <- df_fisher_species\n",
    "}"
   ]
  },
  {
   "cell_type": "code",
   "execution_count": null,
   "metadata": {},
   "outputs": [],
   "source": [
    "lst_fisher_species$EPRSc2 %>% filter(fisher.t.ext < 0.001) %>% \n",
    "    select(c(\"sample\", \"origin\", \"count\", \"fisher.t.ext\"))\n",
    "\n",
    "lst_fisher_species$EPRSc2 %>% #filter(fisher.t.ext < 0.001) %>% \n",
    "    filter(sample == \"A03Pasp\") %>% \n",
    "    select(c(\"sample\", \"origin\", \"count\", \"fisher.t.ext\"))"
   ]
  },
  {
   "cell_type": "code",
   "execution_count": null,
   "metadata": {},
   "outputs": [],
   "source": []
  }
 ],
 "metadata": {
  "kernelspec": {
   "display_name": "R [conda env:r4.2.0]",
   "language": "R",
   "name": "conda-env-r4.2.0-r"
  },
  "language_info": {
   "codemirror_mode": "r",
   "file_extension": ".r",
   "mimetype": "text/x-r-source",
   "name": "R",
   "pygments_lexer": "r",
   "version": "4.2.3"
  }
 },
 "nbformat": 4,
 "nbformat_minor": 4
}
