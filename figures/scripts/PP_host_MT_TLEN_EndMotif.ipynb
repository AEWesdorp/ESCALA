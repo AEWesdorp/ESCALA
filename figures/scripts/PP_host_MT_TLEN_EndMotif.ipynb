{
 "cells": [
  {
   "cell_type": "code",
   "execution_count": null,
   "metadata": {},
   "outputs": [],
   "source": [
    "f_func <- \"./functions.ipynb\"\n",
    "eval(parse(text = system2('jupyter', c('nbconvert', f_func, '--to=script', '--stdout'), stdout = TRUE)))"
   ]
  },
  {
   "cell_type": "code",
   "execution_count": null,
   "metadata": {
    "scrolled": false
   },
   "outputs": [],
   "source": [
    "DIR_IN_HUMAN=\"../../output/cfspi/samples/results/host_TLEN_readCount/\"\n",
    "samples_metadata <- read.csv(file = \"../../output/samples_metadata.csv\") %>% as.data.table()\n",
    "\n",
    "list.files(DIR_IN_HUMAN, pattern = \"_MT_TLEN_EndMotif.txt\") %>% length()"
   ]
  },
  {
   "cell_type": "code",
   "execution_count": null,
   "metadata": {},
   "outputs": [],
   "source": [
    "if (exists(\"host_MT_IS_meta\")){rm(\"host_MT_IS_meta\")}\n",
    "profvis({\n",
    "for (file in list.files(DIR_IN_HUMAN, pattern = \"[pos/neg]_MT_TLEN_EndMotif.txt\")){\n",
    "    sample_tmp <- unlist(strsplit(file, \"_\"))[1] \n",
    "    side_tmp <- unlist(strsplit(file, \"_\"))[2]\n",
    "    \n",
    "    if(countLines(paste0(DIR_IN_HUMAN, file)) > 1){\n",
    "        pre_tmp_IS <- fread(paste0(DIR_IN_HUMAN, file), sep = \",\") %>% \n",
    "                    dplyr::rename(EndMotif_tmp = EndMotif) %>% \n",
    "                    mutate(sample_id = sample_tmp) %>% \n",
    "                    mutate(side = side_tmp) %>% \n",
    "                    mutate(read = substr(side_tmp, 0, 2)) %>% \n",
    "                    filter(TLEN != 0) %>% #remove TLEN not equal to 0\n",
    "                    filter(abs(TLEN) < 1000) %>% #filter max TLEN of 1000\n",
    "                    filter(!grepl(EndMotif_tmp, pattern = \"N\")) %>% #remove reads with end-motif including \"N\"\n",
    "                    group_by(TLEN, EndMotif_tmp, sample_id, side) %>% \n",
    "                    summarise(Count = sum(Count), .groups = \"keep\")\n",
    "        \n",
    "        if (grepl(side_tmp, pattern = \"neg\")){\n",
    "            tmp_IS <- pre_tmp_IS #%>% select(-any_of(\"EndMotif_tmp\"))\n",
    "            tmp_IS$EndMotif <- as.character(reverseComplement(DNAStringSet(pre_tmp_IS$EndMotif_tmp))) \n",
    "        } else {\n",
    "            tmp_IS <- pre_tmp_IS #%>% select(-any_of(\"EndMotif_tmp\"))\n",
    "            tmp_IS$EndMotif <- pre_tmp_IS$EndMotif_tmp\n",
    "        }\n",
    "        \n",
    "        tmp_IS_meta <- merge(x = samples_metadata, y = tmp_IS, by.x = \"sample_id\", by.y = \"sample_id\") \n",
    "        if (!exists(\"host_MT_IS_meta\")){host_MT_IS_meta <- tmp_IS_meta} else {\n",
    "            host_MT_IS_meta <- rbind(host_MT_IS_meta, tmp_IS_meta)}\n",
    "    }\n",
    "    fwrite(host_MT_IS_meta, \"../../output/PP_figures/host_new_MT_IS_meta.csv\", row.names = FALSE)\n",
    "}\n",
    "})"
   ]
  }
 ],
 "metadata": {
  "kernelspec": {
   "display_name": "R [conda env:r4.2.0]",
   "language": "R",
   "name": "conda-env-r4.2.0-r"
  },
  "language_info": {
   "codemirror_mode": "r",
   "file_extension": ".r",
   "mimetype": "text/x-r-source",
   "name": "R",
   "pygments_lexer": "r",
   "version": "4.2.3"
  }
 },
 "nbformat": 4,
 "nbformat_minor": 4
}
