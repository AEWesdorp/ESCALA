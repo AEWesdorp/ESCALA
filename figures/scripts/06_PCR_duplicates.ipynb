{
 "cells": [
  {
   "cell_type": "code",
   "execution_count": null,
   "metadata": {},
   "outputs": [],
   "source": [
    "f_func <- \"./functions.ipynb\"\n",
    "eval(parse(text = system2('jupyter', c('nbconvert', f_func, '--to=script', '--stdout'), stdout = TRUE)))\n",
    "\n",
    "f_data_loading <- \"./data_loading.ipynb\"\n",
    "eval(parse(text = system2('jupyter', c('nbconvert', f_data_loading, '--to=script', '--stdout'), stdout = TRUE)))"
   ]
  },
  {
   "cell_type": "code",
   "execution_count": null,
   "metadata": {},
   "outputs": [],
   "source": [
    "SPL_STATS_DIR = \"../../output/cfspi/samples/results/stats/\"\n",
    "sample_nm <- c()\n",
    "step_nm <- c()\n",
    "for (file in list.files(SPL_STATS_DIR, pattern = \"R1\")){\n",
    "    sample_nm <- c(sample_nm, unlist(strsplit(file, '_'))[1])\n",
    "    step_nm <- c(step_nm, paste0(unlist(strsplit(file, '_'))[3], unlist(strsplit(file, '_'))[4]))\n",
    "}\n",
    "mt <- matrix(ncol = length(unique(sample_nm)), nrow = length(unique(step_nm)))\n",
    "colnames(mt) <- unique(sample_nm)\n",
    "rownames(mt) <- unique(step_nm)\n",
    "for (file in list.files(SPL_STATS_DIR)){\n",
    "    sample <- unlist(strsplit(file, '_'))[1]\n",
    "    step <- paste0(unlist(strsplit(file, '_'))[3], unlist(strsplit(file, '_'))[4])\n",
    "    line_count <- read.csv(file = paste0(SPL_STATS_DIR,file), header=FALSE, sep = \"\\t\", stringsAsFactors=FALSE)\n",
    "    mt[step, sample] <- line_count[1,1]\n",
    "}"
   ]
  },
  {
   "cell_type": "code",
   "execution_count": null,
   "metadata": {},
   "outputs": [],
   "source": [
    "percentage_PCRdupl = data.frame(sample_id = colnames(mt), uniq_percentage = (mt[1,]-mt[2,])/mt[1,]*100)\n",
    "percentage_PCRdupl_meta <- merge(x = samples_metadata, y = percentage_PCRdupl, by.x = \"sample_id\", by.y = \"sample_id\") "
   ]
  },
  {
   "cell_type": "code",
   "execution_count": null,
   "metadata": {},
   "outputs": [],
   "source": [
    "percentage_PCRdupl_meta %>% \n",
    "    filter(sample_type != \"ds-wcDNA BAL\") %>%  \n",
    "    filter(type == \"ssLP\") %>% \n",
    "    filter(origin != \"controls\") %>% \n",
    "    #group_by(sample_type) %>% \n",
    "    summarise(Q1 = quantile(uniq_percentage, probs = 0.25),\n",
    "              Q2 = quantile(uniq_percentage, probs = 0.50),\n",
    "              Q3 = quantile(uniq_percentage, probs = 0.75))"
   ]
  }
 ],
 "metadata": {
  "kernelspec": {
   "display_name": "R [conda env:r4.2.0]",
   "language": "R",
   "name": "conda-env-r4.2.0-r"
  },
  "language_info": {
   "codemirror_mode": "r",
   "file_extension": ".r",
   "mimetype": "text/x-r-source",
   "name": "R",
   "pygments_lexer": "r",
   "version": "4.2.3"
  }
 },
 "nbformat": 4,
 "nbformat_minor": 4
}
